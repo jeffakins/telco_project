{
 "cells": [
  {
   "cell_type": "markdown",
   "id": "2dfe7852",
   "metadata": {},
   "source": [
    "![TELCO Logo](https://upload.wikimedia.org/wikipedia/commons/6/6d/Telco_System_Logo.jpg)"
   ]
  },
  {
   "cell_type": "markdown",
   "id": "b59ae7fc",
   "metadata": {},
   "source": [
    "# TELCO Classification Project \n",
    "### - by Jeff Akins"
   ]
  },
  {
   "cell_type": "markdown",
   "id": "9c1f7e8c",
   "metadata": {},
   "source": [
    "## Executive Summary\n",
    "#### Why are our customers churning?\n",
    "#### Can we detirmine the cause of churn?\n",
    "- "
   ]
  },
  {
   "cell_type": "markdown",
   "id": "b0e7f655",
   "metadata": {},
   "source": [
    "### Imports:"
   ]
  },
  {
   "cell_type": "code",
   "execution_count": 1,
   "id": "4e699436",
   "metadata": {},
   "outputs": [],
   "source": [
    "import acquire as aq\n",
    "import prepare as prep\n",
    "import explore\n",
    "import model_functions as model\n",
    "\n",
    "import pandas as pd\n",
    "import numpy as np\n",
    "\n",
    "import matplotlib.pyplot as plt\n",
    "import seaborn as sns\n",
    "\n",
    "from sklearn.model_selection import train_test_split\n",
    "from sklearn.tree import DecisionTreeClassifier\n",
    "from sklearn.ensemble import RandomForestClassifier\n",
    "from sklearn.neighbors import KNeighborsClassifier\n",
    "from sklearn.linear_model import LogisticRegression\n",
    "from sklearn.tree import export_graphviz\n",
    "from sklearn.metrics import classification_report\n",
    "from sklearn.metrics import confusion_matrix\n",
    "import sklearn.preprocessing\n",
    "\n",
    "import warnings\n",
    "warnings.filterwarnings(\"ignore\")"
   ]
  },
  {
   "cell_type": "markdown",
   "id": "286f84aa",
   "metadata": {},
   "source": [
    "## Plan:\n",
    "- Initially model all data\n",
    "- Refine features based on explore results"
   ]
  },
  {
   "cell_type": "markdown",
   "id": "2d9d5ad5",
   "metadata": {},
   "source": [
    "## Acquire:\n",
    "- Acquire function brings in TELCO data from SQL server"
   ]
  },
  {
   "cell_type": "code",
   "execution_count": 2,
   "id": "4c242dbf",
   "metadata": {},
   "outputs": [
    {
     "data": {
      "text/html": [
       "<div>\n",
       "<style scoped>\n",
       "    .dataframe tbody tr th:only-of-type {\n",
       "        vertical-align: middle;\n",
       "    }\n",
       "\n",
       "    .dataframe tbody tr th {\n",
       "        vertical-align: top;\n",
       "    }\n",
       "\n",
       "    .dataframe thead th {\n",
       "        text-align: right;\n",
       "    }\n",
       "</style>\n",
       "<table border=\"1\" class=\"dataframe\">\n",
       "  <thead>\n",
       "    <tr style=\"text-align: right;\">\n",
       "      <th></th>\n",
       "      <th>payment_type_id</th>\n",
       "      <th>internet_service_type_id</th>\n",
       "      <th>contract_type_id</th>\n",
       "      <th>customer_id</th>\n",
       "      <th>gender</th>\n",
       "      <th>senior_citizen</th>\n",
       "      <th>partner</th>\n",
       "      <th>dependents</th>\n",
       "      <th>tenure</th>\n",
       "      <th>phone_service</th>\n",
       "      <th>...</th>\n",
       "      <th>tech_support</th>\n",
       "      <th>streaming_tv</th>\n",
       "      <th>streaming_movies</th>\n",
       "      <th>paperless_billing</th>\n",
       "      <th>monthly_charges</th>\n",
       "      <th>total_charges</th>\n",
       "      <th>churn</th>\n",
       "      <th>contract_type</th>\n",
       "      <th>internet_service_type</th>\n",
       "      <th>payment_type</th>\n",
       "    </tr>\n",
       "  </thead>\n",
       "  <tbody>\n",
       "    <tr>\n",
       "      <th>0</th>\n",
       "      <td>2</td>\n",
       "      <td>1</td>\n",
       "      <td>3</td>\n",
       "      <td>0016-QLJIS</td>\n",
       "      <td>Female</td>\n",
       "      <td>0</td>\n",
       "      <td>Yes</td>\n",
       "      <td>Yes</td>\n",
       "      <td>65</td>\n",
       "      <td>Yes</td>\n",
       "      <td>...</td>\n",
       "      <td>Yes</td>\n",
       "      <td>Yes</td>\n",
       "      <td>Yes</td>\n",
       "      <td>Yes</td>\n",
       "      <td>90.45</td>\n",
       "      <td>5957.9</td>\n",
       "      <td>No</td>\n",
       "      <td>Two year</td>\n",
       "      <td>DSL</td>\n",
       "      <td>Mailed check</td>\n",
       "    </tr>\n",
       "    <tr>\n",
       "      <th>1</th>\n",
       "      <td>4</td>\n",
       "      <td>1</td>\n",
       "      <td>3</td>\n",
       "      <td>0017-DINOC</td>\n",
       "      <td>Male</td>\n",
       "      <td>0</td>\n",
       "      <td>No</td>\n",
       "      <td>No</td>\n",
       "      <td>54</td>\n",
       "      <td>No</td>\n",
       "      <td>...</td>\n",
       "      <td>Yes</td>\n",
       "      <td>Yes</td>\n",
       "      <td>No</td>\n",
       "      <td>No</td>\n",
       "      <td>45.20</td>\n",
       "      <td>2460.55</td>\n",
       "      <td>No</td>\n",
       "      <td>Two year</td>\n",
       "      <td>DSL</td>\n",
       "      <td>Credit card (automatic)</td>\n",
       "    </tr>\n",
       "    <tr>\n",
       "      <th>2</th>\n",
       "      <td>3</td>\n",
       "      <td>1</td>\n",
       "      <td>3</td>\n",
       "      <td>0019-GFNTW</td>\n",
       "      <td>Female</td>\n",
       "      <td>0</td>\n",
       "      <td>No</td>\n",
       "      <td>No</td>\n",
       "      <td>56</td>\n",
       "      <td>No</td>\n",
       "      <td>...</td>\n",
       "      <td>Yes</td>\n",
       "      <td>No</td>\n",
       "      <td>No</td>\n",
       "      <td>No</td>\n",
       "      <td>45.05</td>\n",
       "      <td>2560.1</td>\n",
       "      <td>No</td>\n",
       "      <td>Two year</td>\n",
       "      <td>DSL</td>\n",
       "      <td>Bank transfer (automatic)</td>\n",
       "    </tr>\n",
       "  </tbody>\n",
       "</table>\n",
       "<p>3 rows × 24 columns</p>\n",
       "</div>"
      ],
      "text/plain": [
       "   payment_type_id  internet_service_type_id  contract_type_id customer_id  \\\n",
       "0                2                         1                 3  0016-QLJIS   \n",
       "1                4                         1                 3  0017-DINOC   \n",
       "2                3                         1                 3  0019-GFNTW   \n",
       "\n",
       "   gender  senior_citizen partner dependents  tenure phone_service  ...  \\\n",
       "0  Female               0     Yes        Yes      65           Yes  ...   \n",
       "1    Male               0      No         No      54            No  ...   \n",
       "2  Female               0      No         No      56            No  ...   \n",
       "\n",
       "  tech_support streaming_tv streaming_movies paperless_billing  \\\n",
       "0          Yes          Yes              Yes               Yes   \n",
       "1          Yes          Yes               No                No   \n",
       "2          Yes           No               No                No   \n",
       "\n",
       "  monthly_charges total_charges churn contract_type  internet_service_type  \\\n",
       "0           90.45        5957.9    No      Two year                    DSL   \n",
       "1           45.20       2460.55    No      Two year                    DSL   \n",
       "2           45.05        2560.1    No      Two year                    DSL   \n",
       "\n",
       "                payment_type  \n",
       "0               Mailed check  \n",
       "1    Credit card (automatic)  \n",
       "2  Bank transfer (automatic)  \n",
       "\n",
       "[3 rows x 24 columns]"
      ]
     },
     "execution_count": 2,
     "metadata": {},
     "output_type": "execute_result"
    }
   ],
   "source": [
    "telco_df = aq.get_telco_data() \n",
    "telco_df.head(3)\n"
   ]
  },
  {
   "cell_type": "markdown",
   "id": "26b18d8f",
   "metadata": {},
   "source": [
    "## Prepare:\n",
    "- Uses the acquire function to bring in the Telco Data\n",
    "- Drop Duplicates\n",
    "- Removed white space\n",
    "- Replaced 'total_charges' empty cells with 0 due to tenure = 0\n",
    "- Convert 'total_charges' from obj to float\n",
    "- Encoding (Changing Yes to 1 and No to 0)\n",
    "- Created dummy variables for 'gender', 'contract', 'internet', 'payment_type' \n",
    "- Concatenated dummy variables\n",
    "- Dropped 7 redundant columns\n",
    "- Renamed 12 columns to shorten the names"
   ]
  },
  {
   "cell_type": "code",
   "execution_count": 3,
   "id": "815a6901",
   "metadata": {},
   "outputs": [
    {
     "name": "stdout",
     "output_type": "stream",
     "text": [
      "<class 'pandas.core.frame.DataFrame'>\n",
      "Int64Index: 7043 entries, 0 to 7042\n",
      "Data columns (total 29 columns):\n",
      " #   Column             Non-Null Count  Dtype  \n",
      "---  ------             --------------  -----  \n",
      " 0   customer_id        7043 non-null   object \n",
      " 1   senior_citizen     7043 non-null   int64  \n",
      " 2   partner            7043 non-null   int64  \n",
      " 3   dependents         7043 non-null   int64  \n",
      " 4   tenure             7043 non-null   int64  \n",
      " 5   phone_service      7043 non-null   int64  \n",
      " 6   multiple_lines     7043 non-null   int64  \n",
      " 7   online_security    7043 non-null   int64  \n",
      " 8   online_backup      7043 non-null   int64  \n",
      " 9   device_protection  7043 non-null   int64  \n",
      " 10  tech_support       7043 non-null   int64  \n",
      " 11  streaming_tv       7043 non-null   int64  \n",
      " 12  streaming_movies   7043 non-null   int64  \n",
      " 13  paperless_billing  7043 non-null   int64  \n",
      " 14  monthly_charges    7043 non-null   float64\n",
      " 15  total_charges      7043 non-null   float64\n",
      " 16  churn              7043 non-null   int64  \n",
      " 17  female             7043 non-null   uint8  \n",
      " 18  male               7043 non-null   uint8  \n",
      " 19  monthly_contract   7043 non-null   uint8  \n",
      " 20  one_yr_contract    7043 non-null   uint8  \n",
      " 21  two_yr_contract    7043 non-null   uint8  \n",
      " 22  dsl                7043 non-null   uint8  \n",
      " 23  fiber              7043 non-null   uint8  \n",
      " 24  no_internet        7043 non-null   uint8  \n",
      " 25  bank_transfer      7043 non-null   uint8  \n",
      " 26  credit_card        7043 non-null   uint8  \n",
      " 27  electronic_check   7043 non-null   uint8  \n",
      " 28  mailed_check       7043 non-null   uint8  \n",
      "dtypes: float64(2), int64(14), object(1), uint8(12)\n",
      "memory usage: 1.0+ MB\n"
     ]
    }
   ],
   "source": [
    "telco_df = prep.prep_telco()\n",
    "telco_df.info()"
   ]
  },
  {
   "cell_type": "code",
   "execution_count": 4,
   "id": "01a714b0",
   "metadata": {},
   "outputs": [
    {
     "data": {
      "text/html": [
       "<div>\n",
       "<style scoped>\n",
       "    .dataframe tbody tr th:only-of-type {\n",
       "        vertical-align: middle;\n",
       "    }\n",
       "\n",
       "    .dataframe tbody tr th {\n",
       "        vertical-align: top;\n",
       "    }\n",
       "\n",
       "    .dataframe thead th {\n",
       "        text-align: right;\n",
       "    }\n",
       "</style>\n",
       "<table border=\"1\" class=\"dataframe\">\n",
       "  <thead>\n",
       "    <tr style=\"text-align: right;\">\n",
       "      <th></th>\n",
       "      <th>customer_id</th>\n",
       "      <th>senior_citizen</th>\n",
       "      <th>partner</th>\n",
       "      <th>dependents</th>\n",
       "      <th>tenure</th>\n",
       "      <th>phone_service</th>\n",
       "      <th>multiple_lines</th>\n",
       "      <th>online_security</th>\n",
       "      <th>online_backup</th>\n",
       "      <th>device_protection</th>\n",
       "      <th>...</th>\n",
       "      <th>monthly_contract</th>\n",
       "      <th>one_yr_contract</th>\n",
       "      <th>two_yr_contract</th>\n",
       "      <th>dsl</th>\n",
       "      <th>fiber</th>\n",
       "      <th>no_internet</th>\n",
       "      <th>bank_transfer</th>\n",
       "      <th>credit_card</th>\n",
       "      <th>electronic_check</th>\n",
       "      <th>mailed_check</th>\n",
       "    </tr>\n",
       "  </thead>\n",
       "  <tbody>\n",
       "    <tr>\n",
       "      <th>0</th>\n",
       "      <td>0016-QLJIS</td>\n",
       "      <td>0</td>\n",
       "      <td>1</td>\n",
       "      <td>1</td>\n",
       "      <td>65</td>\n",
       "      <td>1</td>\n",
       "      <td>1</td>\n",
       "      <td>1</td>\n",
       "      <td>1</td>\n",
       "      <td>1</td>\n",
       "      <td>...</td>\n",
       "      <td>0</td>\n",
       "      <td>0</td>\n",
       "      <td>1</td>\n",
       "      <td>1</td>\n",
       "      <td>0</td>\n",
       "      <td>0</td>\n",
       "      <td>0</td>\n",
       "      <td>0</td>\n",
       "      <td>0</td>\n",
       "      <td>1</td>\n",
       "    </tr>\n",
       "    <tr>\n",
       "      <th>1</th>\n",
       "      <td>0017-DINOC</td>\n",
       "      <td>0</td>\n",
       "      <td>0</td>\n",
       "      <td>0</td>\n",
       "      <td>54</td>\n",
       "      <td>0</td>\n",
       "      <td>0</td>\n",
       "      <td>1</td>\n",
       "      <td>0</td>\n",
       "      <td>0</td>\n",
       "      <td>...</td>\n",
       "      <td>0</td>\n",
       "      <td>0</td>\n",
       "      <td>1</td>\n",
       "      <td>1</td>\n",
       "      <td>0</td>\n",
       "      <td>0</td>\n",
       "      <td>0</td>\n",
       "      <td>1</td>\n",
       "      <td>0</td>\n",
       "      <td>0</td>\n",
       "    </tr>\n",
       "    <tr>\n",
       "      <th>2</th>\n",
       "      <td>0019-GFNTW</td>\n",
       "      <td>0</td>\n",
       "      <td>0</td>\n",
       "      <td>0</td>\n",
       "      <td>56</td>\n",
       "      <td>0</td>\n",
       "      <td>0</td>\n",
       "      <td>1</td>\n",
       "      <td>1</td>\n",
       "      <td>1</td>\n",
       "      <td>...</td>\n",
       "      <td>0</td>\n",
       "      <td>0</td>\n",
       "      <td>1</td>\n",
       "      <td>1</td>\n",
       "      <td>0</td>\n",
       "      <td>0</td>\n",
       "      <td>1</td>\n",
       "      <td>0</td>\n",
       "      <td>0</td>\n",
       "      <td>0</td>\n",
       "    </tr>\n",
       "  </tbody>\n",
       "</table>\n",
       "<p>3 rows × 29 columns</p>\n",
       "</div>"
      ],
      "text/plain": [
       "  customer_id  senior_citizen  partner  dependents  tenure  phone_service  \\\n",
       "0  0016-QLJIS               0        1           1      65              1   \n",
       "1  0017-DINOC               0        0           0      54              0   \n",
       "2  0019-GFNTW               0        0           0      56              0   \n",
       "\n",
       "   multiple_lines  online_security  online_backup  device_protection  ...  \\\n",
       "0               1                1              1                  1  ...   \n",
       "1               0                1              0                  0  ...   \n",
       "2               0                1              1                  1  ...   \n",
       "\n",
       "   monthly_contract  one_yr_contract  two_yr_contract  dsl  fiber  \\\n",
       "0                 0                0                1    1      0   \n",
       "1                 0                0                1    1      0   \n",
       "2                 0                0                1    1      0   \n",
       "\n",
       "   no_internet  bank_transfer  credit_card  electronic_check  mailed_check  \n",
       "0            0              0            0                 0             1  \n",
       "1            0              0            1                 0             0  \n",
       "2            0              1            0                 0             0  \n",
       "\n",
       "[3 rows x 29 columns]"
      ]
     },
     "execution_count": 4,
     "metadata": {},
     "output_type": "execute_result"
    }
   ],
   "source": [
    "telco_df.head(3)"
   ]
  },
  {
   "cell_type": "markdown",
   "id": "08cd103f",
   "metadata": {},
   "source": [
    "### Train, Validate, Test"
   ]
  },
  {
   "cell_type": "code",
   "execution_count": 5,
   "id": "0e085d70",
   "metadata": {},
   "outputs": [
    {
     "name": "stdout",
     "output_type": "stream",
     "text": [
      "train:    (3943, 29)\n",
      "validate: (1691, 29)\n",
      "test:     (1409, 29)\n"
     ]
    }
   ],
   "source": [
    "train, validate, test = explore.train_validate_test_split(telco_df, 'churn', seed=123)"
   ]
  },
  {
   "cell_type": "markdown",
   "id": "1b7f2e52",
   "metadata": {},
   "source": [
    "## Explore:\n"
   ]
  },
  {
   "cell_type": "markdown",
   "id": "65a010e2",
   "metadata": {},
   "source": [
    "### Univariate\n",
    "##### Findings: \n",
    "- Gained a better understanding of the ration of the customers per category"
   ]
  },
  {
   "cell_type": "code",
   "execution_count": 6,
   "id": "bdf3254d",
   "metadata": {},
   "outputs": [
    {
     "data": {
      "image/png": "[encoded data removed]",
      "text/plain": [
       "<Figure size 144x144 with 1 Axes>"
      ]
     },
     "metadata": {
      "needs_background": "light"
     },
     "output_type": "display_data"
    },
    {
     "name": "stdout",
     "output_type": "stream",
     "text": [
      "   senior_citizen  Count  Percent\n",
      "0               0   3303    83.77\n",
      "1               1    640    16.23\n",
      "_________________________________________________________________\n"
     ]
    },
    {
     "data": {
      "image/png": "[encoded data removed]",
      "text/plain": [
       "<Figure size 144x144 with 1 Axes>"
      ]
     },
     "metadata": {
      "needs_background": "light"
     },
     "output_type": "display_data"
    },
    {
     "name": "stdout",
     "output_type": "stream",
     "text": [
      "   partner  Count  Percent\n",
      "0        1   2044    51.84\n",
      "1        0   1899    48.16\n",
      "_________________________________________________________________\n"
     ]
    },
    {
     "data": {
      "image/png": "[encoded data removed]",
      "text/plain": [
       "<Figure size 144x144 with 1 Axes>"
      ]
     },
     "metadata": {
      "needs_background": "light"
     },
     "output_type": "display_data"
    },
    {
     "name": "stdout",
     "output_type": "stream",
     "text": [
      "   dependents  Count  Percent\n",
      "0           1   2764     70.1\n",
      "1           0   1179     29.9\n",
      "_________________________________________________________________\n"
     ]
    },
    {
     "data": {
      "image/png": "[encoded data removed]",
      "text/plain": [
       "<Figure size 144x144 with 1 Axes>"
      ]
     },
     "metadata": {
      "needs_background": "light"
     },
     "output_type": "display_data"
    },
    {
     "name": "stdout",
     "output_type": "stream",
     "text": [
      "   female  Count  Percent\n",
      "0       1   2013    51.05\n",
      "1       0   1930    48.95\n",
      "_________________________________________________________________\n"
     ]
    },
    {
     "data": {
      "image/png": "[encoded data removed]",
      "text/plain": [
       "<Figure size 144x144 with 1 Axes>"
      ]
     },
     "metadata": {
      "needs_background": "light"
     },
     "output_type": "display_data"
    },
    {
     "name": "stdout",
     "output_type": "stream",
     "text": [
      "   male  Count  Percent\n",
      "1     0   2013    51.05\n",
      "0     1   1930    48.95\n",
      "_________________________________________________________________\n"
     ]
    },
    {
     "data": {
      "image/png": "[encoded data removed]",
      "text/plain": [
       "<Figure size 144x144 with 1 Axes>"
      ]
     },
     "metadata": {
      "needs_background": "light"
     },
     "output_type": "display_data"
    },
    {
     "name": "stdout",
     "output_type": "stream",
     "text": [
      "   phone_service  Count  Percent\n",
      "1              1   3550    90.03\n",
      "0              0    393     9.97\n",
      "_________________________________________________________________\n"
     ]
    },
    {
     "data": {
      "image/png": "[encoded data removed]",
      "text/plain": [
       "<Figure size 144x144 with 1 Axes>"
      ]
     },
     "metadata": {
      "needs_background": "light"
     },
     "output_type": "display_data"
    },
    {
     "name": "stdout",
     "output_type": "stream",
     "text": [
      "   multiple_lines  Count  Percent\n",
      "0               1   2277    57.75\n",
      "1               0   1666    42.25\n",
      "_________________________________________________________________\n"
     ]
    },
    {
     "data": {
      "image/png": "[encoded data removed]",
      "text/plain": [
       "<Figure size 144x144 with 1 Axes>"
      ]
     },
     "metadata": {
      "needs_background": "light"
     },
     "output_type": "display_data"
    },
    {
     "name": "stdout",
     "output_type": "stream",
     "text": [
      "   device_protection  Count  Percent\n",
      "0                  0   2534    64.27\n",
      "1                  1   1409    35.73\n",
      "_________________________________________________________________\n"
     ]
    },
    {
     "data": {
      "image/png": "[encoded data removed]",
      "text/plain": [
       "<Figure size 144x144 with 1 Axes>"
      ]
     },
     "metadata": {
      "needs_background": "light"
     },
     "output_type": "display_data"
    },
    {
     "name": "stdout",
     "output_type": "stream",
     "text": [
      "   online_security  Count  Percent\n",
      "0                0   2794    70.86\n",
      "1                1   1149    29.14\n",
      "_________________________________________________________________\n"
     ]
    },
    {
     "data": {
      "image/png": "[encoded data removed]",
      "text/plain": [
       "<Figure size 144x144 with 1 Axes>"
      ]
     },
     "metadata": {
      "needs_background": "light"
     },
     "output_type": "display_data"
    },
    {
     "name": "stdout",
     "output_type": "stream",
     "text": [
      "   online_backup  Count  Percent\n",
      "0              0   2541    64.44\n",
      "1              1   1402    35.56\n",
      "_________________________________________________________________\n"
     ]
    },
    {
     "data": {
      "image/png": "[encoded data removed]",
      "text/plain": [
       "<Figure size 144x144 with 1 Axes>"
      ]
     },
     "metadata": {
      "needs_background": "light"
     },
     "output_type": "display_data"
    },
    {
     "name": "stdout",
     "output_type": "stream",
     "text": [
      "   tech_support  Count  Percent\n",
      "0             0   2759    69.97\n",
      "1             1   1184    30.03\n",
      "_________________________________________________________________\n"
     ]
    },
    {
     "data": {
      "image/png": "[encoded data removed]",
      "text/plain": [
       "<Figure size 144x144 with 1 Axes>"
      ]
     },
     "metadata": {
      "needs_background": "light"
     },
     "output_type": "display_data"
    },
    {
     "name": "stdout",
     "output_type": "stream",
     "text": [
      "   streaming_tv  Count  Percent\n",
      "0             0   2435    61.76\n",
      "1             1   1508    38.24\n",
      "_________________________________________________________________\n"
     ]
    },
    {
     "data": {
      "image/png": "[encoded data removed]",
      "text/plain": [
       "<Figure size 144x144 with 1 Axes>"
      ]
     },
     "metadata": {
      "needs_background": "light"
     },
     "output_type": "display_data"
    },
    {
     "name": "stdout",
     "output_type": "stream",
     "text": [
      "   streaming_movies  Count  Percent\n",
      "0                 0   2389    60.59\n",
      "1                 1   1554    39.41\n",
      "_________________________________________________________________\n"
     ]
    },
    {
     "data": {
      "image/png": "[encoded data removed]",
      "text/plain": [
       "<Figure size 144x144 with 1 Axes>"
      ]
     },
     "metadata": {
      "needs_background": "light"
     },
     "output_type": "display_data"
    },
    {
     "name": "stdout",
     "output_type": "stream",
     "text": [
      "   dsl  Count  Percent\n",
      "0    0   2578    65.38\n",
      "1    1   1365    34.62\n",
      "_________________________________________________________________\n"
     ]
    },
    {
     "data": {
      "image/png": "[encoded data removed]",
      "text/plain": [
       "<Figure size 144x144 with 1 Axes>"
      ]
     },
     "metadata": {
      "needs_background": "light"
     },
     "output_type": "display_data"
    },
    {
     "name": "stdout",
     "output_type": "stream",
     "text": [
      "   fiber  Count  Percent\n",
      "0      0   2203    55.87\n",
      "1      1   1740    44.13\n",
      "_________________________________________________________________\n"
     ]
    },
    {
     "data": {
      "image/png": "[encoded data removed]",
      "text/plain": [
       "<Figure size 144x144 with 1 Axes>"
      ]
     },
     "metadata": {
      "needs_background": "light"
     },
     "output_type": "display_data"
    },
    {
     "name": "stdout",
     "output_type": "stream",
     "text": [
      "   no_internet  Count  Percent\n",
      "0            1   3105    78.75\n",
      "1            0    838    21.25\n",
      "_________________________________________________________________\n"
     ]
    },
    {
     "data": {
      "image/png": "[encoded data removed]",
      "text/plain": [
       "<Figure size 144x144 with 1 Axes>"
      ]
     },
     "metadata": {
      "needs_background": "light"
     },
     "output_type": "display_data"
    },
    {
     "name": "stdout",
     "output_type": "stream",
     "text": [
      "   paperless_billing  Count  Percent\n",
      "1                  1   2324    58.94\n",
      "0                  0   1619    41.06\n",
      "_________________________________________________________________\n"
     ]
    },
    {
     "data": {
      "image/png": "[encoded data removed]",
      "text/plain": [
       "<Figure size 144x144 with 1 Axes>"
      ]
     },
     "metadata": {
      "needs_background": "light"
     },
     "output_type": "display_data"
    },
    {
     "name": "stdout",
     "output_type": "stream",
     "text": [
      "   bank_transfer  Count  Percent\n",
      "0              0   3064    77.71\n",
      "1              1    879    22.29\n",
      "_________________________________________________________________\n"
     ]
    },
    {
     "data": {
      "image/png": "[encoded data removed]",
      "text/plain": [
       "<Figure size 144x144 with 1 Axes>"
      ]
     },
     "metadata": {
      "needs_background": "light"
     },
     "output_type": "display_data"
    },
    {
     "name": "stdout",
     "output_type": "stream",
     "text": [
      "   credit_card  Count  Percent\n",
      "0            1   3091    78.39\n",
      "1            0    852    21.61\n",
      "_________________________________________________________________\n"
     ]
    },
    {
     "data": {
      "image/png": "[encoded data removed]",
      "text/plain": [
       "<Figure size 144x144 with 1 Axes>"
      ]
     },
     "metadata": {
      "needs_background": "light"
     },
     "output_type": "display_data"
    },
    {
     "name": "stdout",
     "output_type": "stream",
     "text": [
      "   electronic_check  Count  Percent\n",
      "0                 0   2623    66.52\n",
      "1                 1   1320    33.48\n",
      "_________________________________________________________________\n"
     ]
    },
    {
     "data": {
      "image/png": "[encoded data removed]",
      "text/plain": [
       "<Figure size 144x144 with 1 Axes>"
      ]
     },
     "metadata": {
      "needs_background": "light"
     },
     "output_type": "display_data"
    },
    {
     "name": "stdout",
     "output_type": "stream",
     "text": [
      "   mailed_check  Count  Percent\n",
      "0             0   3051    77.38\n",
      "1             1    892    22.62\n",
      "_________________________________________________________________\n"
     ]
    },
    {
     "data": {
      "image/png": "[encoded data removed]",
      "text/plain": [
       "<Figure size 144x144 with 1 Axes>"
      ]
     },
     "metadata": {
      "needs_background": "light"
     },
     "output_type": "display_data"
    },
    {
     "name": "stdout",
     "output_type": "stream",
     "text": [
      "   monthly_contract  Count  Percent\n",
      "1                 0   2162    54.83\n",
      "0                 1   1781    45.17\n",
      "_________________________________________________________________\n"
     ]
    },
    {
     "data": {
      "image/png": "[encoded data removed]",
      "text/plain": [
       "<Figure size 144x144 with 1 Axes>"
      ]
     },
     "metadata": {
      "needs_background": "light"
     },
     "output_type": "display_data"
    },
    {
     "name": "stdout",
     "output_type": "stream",
     "text": [
      "   one_yr_contract  Count  Percent\n",
      "0                0   3136    79.53\n",
      "1                1    807    20.47\n",
      "_________________________________________________________________\n"
     ]
    },
    {
     "data": {
      "image/png": "[encoded data removed]",
      "text/plain": [
       "<Figure size 144x144 with 1 Axes>"
      ]
     },
     "metadata": {
      "needs_background": "light"
     },
     "output_type": "display_data"
    },
    {
     "name": "stdout",
     "output_type": "stream",
     "text": [
      "   two_yr_contract  Count  Percent\n",
      "0                1   2969     75.3\n",
      "1                0    974     24.7\n",
      "_________________________________________________________________\n"
     ]
    },
    {
     "data": {
      "image/png": "[encoded data removed]",
      "text/plain": [
       "<Figure size 576x144 with 2 Axes>"
      ]
     },
     "metadata": {
      "needs_background": "light"
     },
     "output_type": "display_data"
    },
    {
     "name": "stdout",
     "output_type": "stream",
     "text": [
      "count    3943.000000\n",
      "mean       32.673852\n",
      "std        24.472862\n",
      "min         0.000000\n",
      "25%         9.000000\n",
      "50%        29.000000\n",
      "75%        56.000000\n",
      "max        72.000000\n",
      "Name: tenure, dtype: float64\n"
     ]
    },
    {
     "data": {
      "image/png": "[encoded data removed]",
      "text/plain": [
       "<Figure size 576x144 with 2 Axes>"
      ]
     },
     "metadata": {
      "needs_background": "light"
     },
     "output_type": "display_data"
    },
    {
     "name": "stdout",
     "output_type": "stream",
     "text": [
      "count    3943.000000\n",
      "mean       65.102790\n",
      "std        30.128631\n",
      "min        18.550000\n",
      "25%        36.200000\n",
      "50%        70.400000\n",
      "75%        90.050000\n",
      "max       118.650000\n",
      "Name: monthly_charges, dtype: float64\n"
     ]
    }
   ],
   "source": [
    "cat_vars = ['senior_citizen', 'partner', 'dependents', 'female', 'male', 'phone_service', 'multiple_lines', 'device_protection', 'online_security', 'online_backup', 'tech_support', 'streaming_tv', 'streaming_movies', 'dsl', 'fiber', 'no_internet', 'paperless_billing', 'bank_transfer', 'credit_card', 'electronic_check', 'mailed_check', 'monthly_contract', 'one_yr_contract', 'two_yr_contract']\n",
    "quant_vars = ['tenure', 'monthly_charges']\n",
    "\n",
    "explore.explore_univariate(train, cat_vars, quant_vars)"
   ]
  },
  {
   "cell_type": "markdown",
   "id": "6ac0a212",
   "metadata": {},
   "source": [
    "### Bivariate\n",
    "##### Findings:\n",
    "- Significance Level, alpha = 0.05\n",
    "###### 24 Chi^2 Tests\n",
    "- ${H}_{0}$: churn is independent of each categorical variable\n",
    "- Rejected ${H}_{0}$ in all cases except: 'male', 'female', 'phone_service'\n",
    "\n",
    "###### 2 Mann-Whitney Test\n",
    "- ${H}_{0}$: there is no difference between tenure or monthly charges and churn \n",
    "- Rejected ${H}_{0}$ in both cases"
   ]
  },
  {
   "cell_type": "code",
   "execution_count": 7,
   "id": "9e4865c9",
   "metadata": {},
   "outputs": [
    {
     "name": "stdout",
     "output_type": "stream",
     "text": [
      "senior_citizen \n",
      "_____________________\n",
      "\n",
      "         chi2       p-value  degrees of freedom\n",
      "0  106.962416  4.536923e-25                   1\n",
      "\n",
      "observed:\n",
      " churn              0     1   All\n",
      "senior_citizen                  \n",
      "0               2533   770  3303\n",
      "1                364   276   640\n",
      "All             2897  1046  3943\n",
      "\n",
      "expected:\n",
      "              0           1\n",
      "0  2426.779356  876.220644\n",
      "1   470.220644  169.779356\n"
     ]
    },
    {
     "data": {
      "image/png": "[encoded data removed]",
      "text/plain": [
       "<Figure size 144x144 with 1 Axes>"
      ]
     },
     "metadata": {
      "needs_background": "light"
     },
     "output_type": "display_data"
    },
    {
     "name": "stdout",
     "output_type": "stream",
     "text": [
      "\n",
      "_____________________\n",
      "\n",
      "partner \n",
      "_____________________\n",
      "\n",
      "        chi2       p-value  degrees of freedom\n",
      "0  74.137206  7.287185e-18                   1\n",
      "\n",
      "observed:\n",
      " churn       0     1   All\n",
      "partner                  \n",
      "0        1382   662  2044\n",
      "1        1515   384  1899\n",
      "All      2897  1046  3943\n",
      "\n",
      "expected:\n",
      "              0           1\n",
      "0  1501.767182  542.232818\n",
      "1  1395.232818  503.767182\n"
     ]
    },
    {
     "data": {
      "image/png": "[encoded data removed]",
      "text/plain": [
       "<Figure size 144x144 with 1 Axes>"
      ]
     },
     "metadata": {
      "needs_background": "light"
     },
     "output_type": "display_data"
    },
    {
     "name": "stdout",
     "output_type": "stream",
     "text": [
      "\n",
      "_____________________\n",
      "\n",
      "dependents \n",
      "_____________________\n",
      "\n",
      "         chi2       p-value  degrees of freedom\n",
      "0  100.546984  1.156215e-23                   1\n",
      "\n",
      "observed:\n",
      " churn          0     1   All\n",
      "dependents                  \n",
      "0           1903   861  2764\n",
      "1            994   185  1179\n",
      "All         2897  1046  3943\n",
      "\n",
      "expected:\n",
      "              0           1\n",
      "0  2030.765407  733.234593\n",
      "1   866.234593  312.765407\n"
     ]
    },
    {
     "data": {
      "image/png": "[encoded data removed]",
      "text/plain": [
       "<Figure size 144x144 with 1 Axes>"
      ]
     },
     "metadata": {
      "needs_background": "light"
     },
     "output_type": "display_data"
    },
    {
     "name": "stdout",
     "output_type": "stream",
     "text": [
      "\n",
      "_____________________\n",
      "\n",
      "female \n",
      "_____________________\n",
      "\n",
      "       chi2  p-value  degrees of freedom\n",
      "0  0.156993  0.69194                   1\n",
      "\n",
      "observed:\n",
      " churn      0     1   All\n",
      "female                  \n",
      "0       1473   540  2013\n",
      "1       1424   506  1930\n",
      "All     2897  1046  3943\n",
      "\n",
      "expected:\n",
      "             0          1\n",
      "0  1478.99087  534.00913\n",
      "1  1418.00913  511.99087\n"
     ]
    },
    {
     "data": {
      "image/png": "[encoded data removed]",
      "text/plain": [
       "<Figure size 144x144 with 1 Axes>"
      ]
     },
     "metadata": {
      "needs_background": "light"
     },
     "output_type": "display_data"
    },
    {
     "name": "stdout",
     "output_type": "stream",
     "text": [
      "\n",
      "_____________________\n",
      "\n",
      "male \n",
      "_____________________\n",
      "\n",
      "       chi2  p-value  degrees of freedom\n",
      "0  0.156993  0.69194                   1\n",
      "\n",
      "observed:\n",
      " churn     0     1   All\n",
      "male                   \n",
      "0      1424   506  1930\n",
      "1      1473   540  2013\n",
      "All    2897  1046  3943\n",
      "\n",
      "expected:\n",
      "             0          1\n",
      "0  1418.00913  511.99087\n",
      "1  1478.99087  534.00913\n"
     ]
    },
    {
     "data": {
      "image/png": "[encoded data removed]",
      "text/plain": [
       "<Figure size 144x144 with 1 Axes>"
      ]
     },
     "metadata": {
      "needs_background": "light"
     },
     "output_type": "display_data"
    },
    {
     "name": "stdout",
     "output_type": "stream",
     "text": [
      "\n",
      "_____________________\n",
      "\n",
      "phone_service \n",
      "_____________________\n",
      "\n",
      "       chi2   p-value  degrees of freedom\n",
      "0  0.480275  0.488298                   1\n",
      "\n",
      "observed:\n",
      " churn             0     1   All\n",
      "phone_service                  \n",
      "0               295    98   393\n",
      "1              2602   948  3550\n",
      "All            2897  1046  3943\n",
      "\n",
      "expected:\n",
      "              0           1\n",
      "0   288.744864  104.255136\n",
      "1  2608.255136  941.744864\n"
     ]
    },
    {
     "data": {
      "image/png": "[encoded data removed]",
      "text/plain": [
       "<Figure size 144x144 with 1 Axes>"
      ]
     },
     "metadata": {
      "needs_background": "light"
     },
     "output_type": "display_data"
    },
    {
     "name": "stdout",
     "output_type": "stream",
     "text": [
      "\n",
      "_____________________\n",
      "\n",
      "multiple_lines \n",
      "_____________________\n",
      "\n",
      "       chi2   p-value  degrees of freedom\n",
      "0  6.737101  0.009443                   1\n",
      "\n",
      "observed:\n",
      " churn              0     1   All\n",
      "multiple_lines                  \n",
      "0               1709   568  2277\n",
      "1               1188   478  1666\n",
      "All             2897  1046  3943\n",
      "\n",
      "expected:\n",
      "              0           1\n",
      "0  1672.956886  604.043114\n",
      "1  1224.043114  441.956886\n"
     ]
    },
    {
     "data": {
      "image/png": "[encoded data removed]",
      "text/plain": [
       "<Figure size 144x144 with 1 Axes>"
      ]
     },
     "metadata": {
      "needs_background": "light"
     },
     "output_type": "display_data"
    },
    {
     "name": "stdout",
     "output_type": "stream",
     "text": [
      "\n",
      "_____________________\n",
      "\n",
      "device_protection \n",
      "_____________________\n",
      "\n",
      "        chi2   p-value  degrees of freedom\n",
      "0  15.486434  0.000083                   1\n",
      "\n",
      "observed:\n",
      " churn                 0     1   All\n",
      "device_protection                  \n",
      "0                  1809   725  2534\n",
      "1                  1088   321  1409\n",
      "All                2897  1046  3943\n",
      "\n",
      "expected:\n",
      "              0           1\n",
      "0  1861.779863  672.220137\n",
      "1  1035.220137  373.779863\n"
     ]
    },
    {
     "data": {
      "image/png": "[encoded data removed]",
      "text/plain": [
       "<Figure size 144x144 with 1 Axes>"
      ]
     },
     "metadata": {
      "needs_background": "light"
     },
     "output_type": "display_data"
    },
    {
     "name": "stdout",
     "output_type": "stream",
     "text": [
      "\n",
      "_____________________\n",
      "\n",
      "online_security \n",
      "_____________________\n",
      "\n",
      "         chi2       p-value  degrees of freedom\n",
      "0  127.616329  1.361803e-29                   1\n",
      "\n",
      "observed:\n",
      " churn               0     1   All\n",
      "online_security                  \n",
      "0                1910   884  2794\n",
      "1                 987   162  1149\n",
      "All              2897  1046  3943\n",
      "\n",
      "expected:\n",
      "           0        1\n",
      "0  2052.807  741.193\n",
      "1   844.193  304.807\n"
     ]
    },
    {
     "data": {
      "image/png": "[encoded data removed]",
      "text/plain": [
       "<Figure size 144x144 with 1 Axes>"
      ]
     },
     "metadata": {
      "needs_background": "light"
     },
     "output_type": "display_data"
    },
    {
     "name": "stdout",
     "output_type": "stream",
     "text": [
      "\n",
      "_____________________\n",
      "\n",
      "online_backup \n",
      "_____________________\n",
      "\n",
      "        chi2       p-value  degrees of freedom\n",
      "0  24.305641  8.219800e-07                   1\n",
      "\n",
      "observed:\n",
      " churn             0     1   All\n",
      "online_backup                  \n",
      "0              1801   740  2541\n",
      "1              1096   306  1402\n",
      "All            2897  1046  3943\n",
      "\n",
      "expected:\n",
      "              0           1\n",
      "0  1866.922901  674.077099\n",
      "1  1030.077099  371.922901\n"
     ]
    },
    {
     "data": {
      "image/png": "[encoded data removed]",
      "text/plain": [
       "<Figure size 144x144 with 1 Axes>"
      ]
     },
     "metadata": {
      "needs_background": "light"
     },
     "output_type": "display_data"
    },
    {
     "name": "stdout",
     "output_type": "stream",
     "text": [
      "\n",
      "_____________________\n",
      "\n",
      "tech_support \n",
      "_____________________\n",
      "\n",
      "         chi2       p-value  degrees of freedom\n",
      "0  122.409967  1.877443e-28                   1\n",
      "\n",
      "observed:\n",
      " churn            0     1   All\n",
      "tech_support                  \n",
      "0             1886   873  2759\n",
      "1             1011   173  1184\n",
      "All           2897  1046  3943\n",
      "\n",
      "expected:\n",
      "              0           1\n",
      "0  2027.091808  731.908192\n",
      "1   869.908192  314.091808\n"
     ]
    },
    {
     "data": {
      "image/png": "[encoded data removed]",
      "text/plain": [
       "<Figure size 144x144 with 1 Axes>"
      ]
     },
     "metadata": {
      "needs_background": "light"
     },
     "output_type": "display_data"
    },
    {
     "name": "stdout",
     "output_type": "stream",
     "text": [
      "\n",
      "_____________________\n",
      "\n",
      "streaming_tv \n",
      "_____________________\n",
      "\n",
      "        chi2   p-value  degrees of freedom\n",
      "0  18.826896  0.000014                   1\n",
      "\n",
      "observed:\n",
      " churn            0     1   All\n",
      "streaming_tv                  \n",
      "0             1848   587  2435\n",
      "1             1049   459  1508\n",
      "All           2897  1046  3943\n",
      "\n",
      "expected:\n",
      "              0           1\n",
      "0  1789.042607  645.957393\n",
      "1  1107.957393  400.042607\n"
     ]
    },
    {
     "data": {
      "image/png": "[encoded data removed]",
      "text/plain": [
       "<Figure size 144x144 with 1 Axes>"
      ]
     },
     "metadata": {
      "needs_background": "light"
     },
     "output_type": "display_data"
    },
    {
     "name": "stdout",
     "output_type": "stream",
     "text": [
      "\n",
      "_____________________\n",
      "\n",
      "streaming_movies \n",
      "_____________________\n",
      "\n",
      "        chi2   p-value  degrees of freedom\n",
      "0  14.879228  0.000115                   1\n",
      "\n",
      "observed:\n",
      " churn                0     1   All\n",
      "streaming_movies                  \n",
      "0                 1808   581  2389\n",
      "1                 1089   465  1554\n",
      "All               2897  1046  3943\n",
      "\n",
      "expected:\n",
      "              0           1\n",
      "0  1755.245498  633.754502\n",
      "1  1141.754502  412.245498\n"
     ]
    },
    {
     "data": {
      "image/png": "[encoded data removed]",
      "text/plain": [
       "<Figure size 144x144 with 1 Axes>"
      ]
     },
     "metadata": {
      "needs_background": "light"
     },
     "output_type": "display_data"
    },
    {
     "name": "stdout",
     "output_type": "stream",
     "text": [
      "\n",
      "_____________________\n",
      "\n",
      "dsl \n",
      "_____________________\n",
      "\n",
      "        chi2       p-value  degrees of freedom\n",
      "0  60.526153  7.260737e-15                   1\n",
      "\n",
      "observed:\n",
      " churn     0     1   All\n",
      "dsl                    \n",
      "0      1791   787  2578\n",
      "1      1106   259  1365\n",
      "All    2897  1046  3943\n",
      "\n",
      "expected:\n",
      "              0           1\n",
      "0  1894.107532  683.892468\n",
      "1  1002.892468  362.107532\n"
     ]
    },
    {
     "data": {
      "image/png": "[encoded data removed]",
      "text/plain": [
       "<Figure size 144x144 with 1 Axes>"
      ]
     },
     "metadata": {
      "needs_background": "light"
     },
     "output_type": "display_data"
    },
    {
     "name": "stdout",
     "output_type": "stream",
     "text": [
      "\n",
      "_____________________\n",
      "\n",
      "fiber \n",
      "_____________________\n",
      "\n",
      "         chi2       p-value  degrees of freedom\n",
      "0  362.033241  1.015910e-80                   1\n",
      "\n",
      "observed:\n",
      " churn     0     1   All\n",
      "fiber                  \n",
      "0      1881   322  2203\n",
      "1      1016   724  1740\n",
      "All    2897  1046  3943\n",
      "\n",
      "expected:\n",
      "              0           1\n",
      "0  1618.587624  584.412376\n",
      "1  1278.412376  461.587624\n"
     ]
    },
    {
     "data": {
      "image/png": "[encoded data removed]",
      "text/plain": [
       "<Figure size 144x144 with 1 Axes>"
      ]
     },
     "metadata": {
      "needs_background": "light"
     },
     "output_type": "display_data"
    },
    {
     "name": "stdout",
     "output_type": "stream",
     "text": [
      "\n",
      "_____________________\n",
      "\n",
      "no_internet \n",
      "_____________________\n",
      "\n",
      "         chi2       p-value  degrees of freedom\n",
      "0  196.074908  1.501123e-44                   1\n",
      "\n",
      "observed:\n",
      " churn           0     1   All\n",
      "no_internet                  \n",
      "0            2122   983  3105\n",
      "1             775    63   838\n",
      "All          2897  1046  3943\n",
      "\n",
      "expected:\n",
      "              0           1\n",
      "0  2281.304844  823.695156\n",
      "1   615.695156  222.304844\n"
     ]
    },
    {
     "data": {
      "image/png": "[encoded data removed]",
      "text/plain": [
       "<Figure size 144x144 with 1 Axes>"
      ]
     },
     "metadata": {
      "needs_background": "light"
     },
     "output_type": "display_data"
    },
    {
     "name": "stdout",
     "output_type": "stream",
     "text": [
      "\n",
      "_____________________\n",
      "\n",
      "paperless_billing \n",
      "_____________________\n",
      "\n",
      "         chi2       p-value  degrees of freedom\n",
      "0  137.624538  8.804467e-32                   1\n",
      "\n",
      "observed:\n",
      " churn                 0     1   All\n",
      "paperless_billing                  \n",
      "0                  1350   269  1619\n",
      "1                  1547   777  2324\n",
      "All                2897  1046  3943\n",
      "\n",
      "expected:\n",
      "              0           1\n",
      "0  1189.511286  429.488714\n",
      "1  1707.488714  616.511286\n"
     ]
    },
    {
     "data": {
      "image/png": "[encoded data removed]",
      "text/plain": [
       "<Figure size 144x144 with 1 Axes>"
      ]
     },
     "metadata": {
      "needs_background": "light"
     },
     "output_type": "display_data"
    },
    {
     "name": "stdout",
     "output_type": "stream",
     "text": [
      "\n",
      "_____________________\n",
      "\n",
      "bank_transfer \n",
      "_____________________\n",
      "\n",
      "        chi2       p-value  degrees of freedom\n",
      "0  52.599269  4.090415e-13                   1\n",
      "\n",
      "observed:\n",
      " churn             0     1   All\n",
      "bank_transfer                  \n",
      "0              2167   897  3064\n",
      "1               730   149   879\n",
      "All            2897  1046  3943\n",
      "\n",
      "expected:\n",
      "              0           1\n",
      "0  2251.181334  812.818666\n",
      "1   645.818666  233.181334\n"
     ]
    },
    {
     "data": {
      "image/png": "[encoded data removed]",
      "text/plain": [
       "<Figure size 144x144 with 1 Axes>"
      ]
     },
     "metadata": {
      "needs_background": "light"
     },
     "output_type": "display_data"
    },
    {
     "name": "stdout",
     "output_type": "stream",
     "text": [
      "\n",
      "_____________________\n",
      "\n",
      "credit_card \n",
      "_____________________\n",
      "\n",
      "       chi2       p-value  degrees of freedom\n",
      "0  62.94175  2.129110e-15                   1\n",
      "\n",
      "observed:\n",
      " churn           0     1   All\n",
      "credit_card                  \n",
      "0            2180   911  3091\n",
      "1             717   135   852\n",
      "All          2897  1046  3943\n",
      "\n",
      "expected:\n",
      "              0           1\n",
      "0  2271.018767  819.981233\n",
      "1   625.981233  226.018767\n"
     ]
    },
    {
     "data": {
      "image/png": "[encoded data removed]",
      "text/plain": [
       "<Figure size 144x144 with 1 Axes>"
      ]
     },
     "metadata": {
      "needs_background": "light"
     },
     "output_type": "display_data"
    },
    {
     "name": "stdout",
     "output_type": "stream",
     "text": [
      "\n",
      "_____________________\n",
      "\n",
      "electronic_check \n",
      "_____________________\n",
      "\n",
      "         chi2       p-value  degrees of freedom\n",
      "0  348.804275  7.718393e-78                   1\n",
      "\n",
      "observed:\n",
      " churn                0     1   All\n",
      "electronic_check                  \n",
      "0                 2172   451  2623\n",
      "1                  725   595  1320\n",
      "All               2897  1046  3943\n",
      "\n",
      "expected:\n",
      "              0           1\n",
      "0  1927.169921  695.830079\n",
      "1   969.830079  350.169921\n"
     ]
    },
    {
     "data": {
      "image/png": "[encoded data removed]",
      "text/plain": [
       "<Figure size 144x144 with 1 Axes>"
      ]
     },
     "metadata": {
      "needs_background": "light"
     },
     "output_type": "display_data"
    },
    {
     "name": "stdout",
     "output_type": "stream",
     "text": [
      "\n",
      "_____________________\n",
      "\n",
      "mailed_check \n",
      "_____________________\n",
      "\n",
      "        chi2       p-value  degrees of freedom\n",
      "0  35.524332  2.518844e-09                   1\n",
      "\n",
      "observed:\n",
      " churn            0     1   All\n",
      "mailed_check                  \n",
      "0             2172   879  3051\n",
      "1              725   167   892\n",
      "All           2897  1046  3943\n",
      "\n",
      "expected:\n",
      "              0           1\n",
      "0  2241.629977  809.370023\n",
      "1   655.370023  236.629977\n"
     ]
    },
    {
     "data": {
      "image/png": "[encoded data removed]",
      "text/plain": [
       "<Figure size 144x144 with 1 Axes>"
      ]
     },
     "metadata": {
      "needs_background": "light"
     },
     "output_type": "display_data"
    },
    {
     "name": "stdout",
     "output_type": "stream",
     "text": [
      "\n",
      "_____________________\n",
      "\n",
      "monthly_contract \n",
      "_____________________\n",
      "\n",
      "         chi2        p-value  degrees of freedom\n",
      "0  658.262341  3.566418e-145                   1\n",
      "\n",
      "observed:\n",
      " churn                0     1   All\n",
      "monthly_contract                  \n",
      "0                 1663   118  1781\n",
      "1                 1234   928  2162\n",
      "All               2897  1046  3943\n",
      "\n",
      "expected:\n",
      "              0           1\n",
      "0  1308.535886  472.464114\n",
      "1  1588.464114  573.535886\n"
     ]
    },
    {
     "data": {
      "image/png": "[encoded data removed]",
      "text/plain": [
       "<Figure size 144x144 with 1 Axes>"
      ]
     },
     "metadata": {
      "needs_background": "light"
     },
     "output_type": "display_data"
    },
    {
     "name": "stdout",
     "output_type": "stream",
     "text": [
      "\n",
      "_____________________\n",
      "\n",
      "one_yr_contract \n",
      "_____________________\n",
      "\n",
      "         chi2       p-value  degrees of freedom\n",
      "0  134.225264  4.877529e-31                   1\n",
      "\n",
      "observed:\n",
      " churn               0     1   All\n",
      "one_yr_contract                  \n",
      "0                2174   962  3136\n",
      "1                 723    84   807\n",
      "All              2897  1046  3943\n",
      "\n",
      "expected:\n",
      "              0           1\n",
      "0  2304.081156  831.918844\n",
      "1   592.918844  214.081156\n"
     ]
    },
    {
     "data": {
      "image/png": "[encoded data removed]",
      "text/plain": [
       "<Figure size 144x144 with 1 Axes>"
      ]
     },
     "metadata": {
      "needs_background": "light"
     },
     "output_type": "display_data"
    },
    {
     "name": "stdout",
     "output_type": "stream",
     "text": [
      "\n",
      "_____________________\n",
      "\n",
      "two_yr_contract \n",
      "_____________________\n",
      "\n",
      "         chi2       p-value  degrees of freedom\n",
      "0  350.649373  3.060060e-78                   1\n",
      "\n",
      "observed:\n",
      " churn               0     1   All\n",
      "two_yr_contract                  \n",
      "0                1957  1012  2969\n",
      "1                 940    34   974\n",
      "All              2897  1046  3943\n",
      "\n",
      "expected:\n",
      "              0           1\n",
      "0  2181.382957  787.617043\n",
      "1   715.617043  258.382957\n"
     ]
    },
    {
     "data": {
      "image/png": "[encoded data removed]",
      "text/plain": [
       "<Figure size 144x144 with 1 Axes>"
      ]
     },
     "metadata": {
      "needs_background": "light"
     },
     "output_type": "display_data"
    },
    {
     "name": "stdout",
     "output_type": "stream",
     "text": [
      "\n",
      "_____________________\n",
      "\n",
      "tenure \n",
      "____________________\n",
      "\n"
     ]
    },
    {
     "data": {
      "image/png": "[encoded data removed]",
      "text/plain": [
       "<Figure size 288x288 with 1 Axes>"
      ]
     },
     "metadata": {
      "needs_background": "light"
     },
     "output_type": "display_data"
    },
    {
     "name": "stdout",
     "output_type": "stream",
     "text": [
      "        count       mean        std  min   25%   50%   75%   max\n",
      "churn                                                           \n",
      "0      2897.0  37.853642  23.956034  0.0  16.0  38.0  61.0  72.0\n",
      "1      1046.0  18.327916  19.709773  1.0   2.0  10.0  30.0  72.0 \n",
      "\n",
      "\n",
      "Mann-Whitney Test:\n",
      " MannwhitneyuResult(statistic=2242516.5, pvalue=1.1957988576110993e-117)\n",
      "\n",
      "____________________\n",
      "\n",
      "monthly_charges \n",
      "____________________\n",
      "\n"
     ]
    },
    {
     "data": {
      "image/png": "[encoded data removed]",
      "text/plain": [
       "<Figure size 288x288 with 1 Axes>"
      ]
     },
     "metadata": {
      "needs_background": "light"
     },
     "output_type": "display_data"
    },
    {
     "name": "stdout",
     "output_type": "stream",
     "text": [
      "        count       mean        std    min    25%     50%      75%     max\n",
      "churn                                                                     \n",
      "0      2897.0  61.680877  31.166578  18.55  25.15  64.900  88.9000  118.65\n",
      "1      1046.0  74.580115  24.696621  18.85  56.25  79.925  94.3875  116.20 \n",
      "\n",
      "\n",
      "Mann-Whitney Test:\n",
      " MannwhitneyuResult(statistic=1160715.0, pvalue=2.891105812698731e-29)\n",
      "\n",
      "____________________\n",
      "\n"
     ]
    }
   ],
   "source": [
    "target = 'churn'\n",
    "cat_vars = ['senior_citizen', 'partner', 'dependents', 'female', 'male', 'phone_service', 'multiple_lines', 'device_protection', 'online_security', 'online_backup', 'tech_support', 'streaming_tv', 'streaming_movies', 'dsl', 'fiber', 'no_internet', 'paperless_billing', 'bank_transfer', 'credit_card', 'electronic_check', 'mailed_check', 'monthly_contract', 'one_yr_contract', 'two_yr_contract']\n",
    "quant_vars = ['tenure', 'monthly_charges']\n",
    "\n",
    "explore.explore_bivariate(train, 'churn', cat_vars, quant_vars)"
   ]
  },
  {
   "cell_type": "markdown",
   "id": "9790d649",
   "metadata": {},
   "source": [
    "### Multivariate"
   ]
  },
  {
   "cell_type": "code",
   "execution_count": null,
   "id": "243d8f03",
   "metadata": {},
   "outputs": [],
   "source": []
  },
  {
   "cell_type": "markdown",
   "id": "5086bd76",
   "metadata": {},
   "source": [
    "### Correlation Heatmap"
   ]
  },
  {
   "cell_type": "code",
   "execution_count": 8,
   "id": "2b88be9d",
   "metadata": {},
   "outputs": [
    {
     "data": {
      "image/png": "[encoded data removed]",
      "text/plain": [
       "<Figure size 792x648 with 2 Axes>"
      ]
     },
     "metadata": {
      "needs_background": "light"
     },
     "output_type": "display_data"
    }
   ],
   "source": [
    "f, ax = plt.subplots(figsize=(11, 9))\n",
    "sns.heatmap(train.corr()) # Pandas correlation using mehtod=pearson : standard correlation coefficient\n",
    "plt.title('Correlation Coefficient Heatmap', fontsize = 20)\n",
    "plt.show()"
   ]
  },
  {
   "cell_type": "code",
   "execution_count": 9,
   "id": "ee950a49",
   "metadata": {},
   "outputs": [
    {
     "data": {
      "text/html": [
       "<div>\n",
       "<style scoped>\n",
       "    .dataframe tbody tr th:only-of-type {\n",
       "        vertical-align: middle;\n",
       "    }\n",
       "\n",
       "    .dataframe tbody tr th {\n",
       "        vertical-align: top;\n",
       "    }\n",
       "\n",
       "    .dataframe thead th {\n",
       "        text-align: right;\n",
       "    }\n",
       "</style>\n",
       "<table border=\"1\" class=\"dataframe\">\n",
       "  <thead>\n",
       "    <tr style=\"text-align: right;\">\n",
       "      <th></th>\n",
       "      <th>churn</th>\n",
       "    </tr>\n",
       "  </thead>\n",
       "  <tbody>\n",
       "    <tr>\n",
       "      <th>churn</th>\n",
       "      <td>1.000000</td>\n",
       "    </tr>\n",
       "    <tr>\n",
       "      <th>monthly_contract</th>\n",
       "      <td>0.409166</td>\n",
       "    </tr>\n",
       "    <tr>\n",
       "      <th>fiber</th>\n",
       "      <td>0.303591</td>\n",
       "    </tr>\n",
       "    <tr>\n",
       "      <th>electronic_check</th>\n",
       "      <td>0.298034</td>\n",
       "    </tr>\n",
       "    <tr>\n",
       "      <th>monthly_charges</th>\n",
       "      <td>0.189040</td>\n",
       "    </tr>\n",
       "    <tr>\n",
       "      <th>paperless_billing</th>\n",
       "      <td>0.187409</td>\n",
       "    </tr>\n",
       "    <tr>\n",
       "      <th>senior_citizen</th>\n",
       "      <td>0.165482</td>\n",
       "    </tr>\n",
       "    <tr>\n",
       "      <th>streaming_tv</th>\n",
       "      <td>0.069691</td>\n",
       "    </tr>\n",
       "    <tr>\n",
       "      <th>streaming_movies</th>\n",
       "      <td>0.062017</td>\n",
       "    </tr>\n",
       "    <tr>\n",
       "      <th>multiple_lines</th>\n",
       "      <td>0.041917</td>\n",
       "    </tr>\n",
       "    <tr>\n",
       "      <th>phone_service</th>\n",
       "      <td>0.011995</td>\n",
       "    </tr>\n",
       "    <tr>\n",
       "      <th>male</th>\n",
       "      <td>0.006885</td>\n",
       "    </tr>\n",
       "    <tr>\n",
       "      <th>female</th>\n",
       "      <td>-0.006885</td>\n",
       "    </tr>\n",
       "    <tr>\n",
       "      <th>device_protection</th>\n",
       "      <td>-0.063270</td>\n",
       "    </tr>\n",
       "    <tr>\n",
       "      <th>online_backup</th>\n",
       "      <td>-0.079113</td>\n",
       "    </tr>\n",
       "    <tr>\n",
       "      <th>mailed_check</th>\n",
       "      <td>-0.095605</td>\n",
       "    </tr>\n",
       "    <tr>\n",
       "      <th>bank_transfer</th>\n",
       "      <td>-0.116189</td>\n",
       "    </tr>\n",
       "    <tr>\n",
       "      <th>dsl</th>\n",
       "      <td>-0.124500</td>\n",
       "    </tr>\n",
       "    <tr>\n",
       "      <th>credit_card</th>\n",
       "      <td>-0.127042</td>\n",
       "    </tr>\n",
       "    <tr>\n",
       "      <th>partner</th>\n",
       "      <td>-0.137696</td>\n",
       "    </tr>\n",
       "    <tr>\n",
       "      <th>dependents</th>\n",
       "      <td>-0.160315</td>\n",
       "    </tr>\n",
       "    <tr>\n",
       "      <th>tech_support</th>\n",
       "      <td>-0.176822</td>\n",
       "    </tr>\n",
       "    <tr>\n",
       "      <th>online_security</th>\n",
       "      <td>-0.180536</td>\n",
       "    </tr>\n",
       "    <tr>\n",
       "      <th>one_yr_contract</th>\n",
       "      <td>-0.185215</td>\n",
       "    </tr>\n",
       "    <tr>\n",
       "      <th>total_charges</th>\n",
       "      <td>-0.201972</td>\n",
       "    </tr>\n",
       "    <tr>\n",
       "      <th>no_internet</th>\n",
       "      <td>-0.223698</td>\n",
       "    </tr>\n",
       "    <tr>\n",
       "      <th>two_yr_contract</th>\n",
       "      <td>-0.298877</td>\n",
       "    </tr>\n",
       "    <tr>\n",
       "      <th>tenure</th>\n",
       "      <td>-0.352282</td>\n",
       "    </tr>\n",
       "  </tbody>\n",
       "</table>\n",
       "</div>"
      ],
      "text/plain": [
       "                      churn\n",
       "churn              1.000000\n",
       "monthly_contract   0.409166\n",
       "fiber              0.303591\n",
       "electronic_check   0.298034\n",
       "monthly_charges    0.189040\n",
       "paperless_billing  0.187409\n",
       "senior_citizen     0.165482\n",
       "streaming_tv       0.069691\n",
       "streaming_movies   0.062017\n",
       "multiple_lines     0.041917\n",
       "phone_service      0.011995\n",
       "male               0.006885\n",
       "female            -0.006885\n",
       "device_protection -0.063270\n",
       "online_backup     -0.079113\n",
       "mailed_check      -0.095605\n",
       "bank_transfer     -0.116189\n",
       "dsl               -0.124500\n",
       "credit_card       -0.127042\n",
       "partner           -0.137696\n",
       "dependents        -0.160315\n",
       "tech_support      -0.176822\n",
       "online_security   -0.180536\n",
       "one_yr_contract   -0.185215\n",
       "total_charges     -0.201972\n",
       "no_internet       -0.223698\n",
       "two_yr_contract   -0.298877\n",
       "tenure            -0.352282"
      ]
     },
     "execution_count": 9,
     "metadata": {},
     "output_type": "execute_result"
    }
   ],
   "source": [
    "traincorr = train.corr()\n",
    "traincorr = traincorr.sort_values(by='churn', ascending=False)\n",
    "pd.DataFrame(traincorr.churn)"
   ]
  },
  {
   "cell_type": "markdown",
   "id": "303f3a89",
   "metadata": {},
   "source": [
    "## Model & Evaluate (All Features):\n",
    "#### Baseline Accuracy if no churn: 0.73"
   ]
  },
  {
   "cell_type": "markdown",
   "id": "e6c3649c",
   "metadata": {},
   "source": [
    "### All Data:\n",
    "- First approach was to utilize all features to see if the models would do better than baseline"
   ]
  },
  {
   "cell_type": "code",
   "execution_count": 10,
   "id": "5f19a176",
   "metadata": {},
   "outputs": [],
   "source": [
    "X_train = train.drop(columns=['customer_id', 'churn'])\n",
    "y_train = train.churn\n",
    "\n",
    "X_validate = validate.drop(columns=['customer_id', 'churn'])\n",
    "y_validate = validate.churn\n",
    "\n",
    "X_test = test.drop(columns=['customer_id', 'churn'])\n",
    "y_test = test.churn"
   ]
  },
  {
   "cell_type": "markdown",
   "id": "28d43c41",
   "metadata": {},
   "source": [
    "### Decision Tree (All Data)"
   ]
  },
  {
   "cell_type": "code",
   "execution_count": 11,
   "id": "45658776",
   "metadata": {},
   "outputs": [
    {
     "data": {
      "text/html": [
       "<div>\n",
       "<style scoped>\n",
       "    .dataframe tbody tr th:only-of-type {\n",
       "        vertical-align: middle;\n",
       "    }\n",
       "\n",
       "    .dataframe tbody tr th {\n",
       "        vertical-align: top;\n",
       "    }\n",
       "\n",
       "    .dataframe thead th {\n",
       "        text-align: right;\n",
       "    }\n",
       "</style>\n",
       "<table border=\"1\" class=\"dataframe\">\n",
       "  <thead>\n",
       "    <tr style=\"text-align: right;\">\n",
       "      <th></th>\n",
       "      <th>max_depth</th>\n",
       "      <th>train_accuracy</th>\n",
       "      <th>validate_accuracy</th>\n",
       "      <th>difference</th>\n",
       "    </tr>\n",
       "  </thead>\n",
       "  <tbody>\n",
       "    <tr>\n",
       "      <th>0</th>\n",
       "      <td>2</td>\n",
       "      <td>0.760588</td>\n",
       "      <td>0.769367</td>\n",
       "      <td>-0.008779</td>\n",
       "    </tr>\n",
       "    <tr>\n",
       "      <th>1</th>\n",
       "      <td>3</td>\n",
       "      <td>0.792037</td>\n",
       "      <td>0.793613</td>\n",
       "      <td>-0.001577</td>\n",
       "    </tr>\n",
       "    <tr>\n",
       "      <th>2</th>\n",
       "      <td>4</td>\n",
       "      <td>0.795080</td>\n",
       "      <td>0.781786</td>\n",
       "      <td>0.013294</td>\n",
       "    </tr>\n",
       "    <tr>\n",
       "      <th>3</th>\n",
       "      <td>5</td>\n",
       "      <td>0.799391</td>\n",
       "      <td>0.782969</td>\n",
       "      <td>0.016423</td>\n",
       "    </tr>\n",
       "    <tr>\n",
       "      <th>4</th>\n",
       "      <td>6</td>\n",
       "      <td>0.815623</td>\n",
       "      <td>0.775872</td>\n",
       "      <td>0.039750</td>\n",
       "    </tr>\n",
       "  </tbody>\n",
       "</table>\n",
       "</div>"
      ],
      "text/plain": [
       "   max_depth  train_accuracy  validate_accuracy  difference\n",
       "0          2        0.760588           0.769367   -0.008779\n",
       "1          3        0.792037           0.793613   -0.001577\n",
       "2          4        0.795080           0.781786    0.013294\n",
       "3          5        0.799391           0.782969    0.016423\n",
       "4          6        0.815623           0.775872    0.039750"
      ]
     },
     "execution_count": 11,
     "metadata": {},
     "output_type": "execute_result"
    },
    {
     "data": {
      "image/png": "[encoded data removed]",
      "text/plain": [
       "<Figure size 1152x648 with 1 Axes>"
      ]
     },
     "metadata": {
      "needs_background": "light"
     },
     "output_type": "display_data"
    }
   ],
   "source": [
    "model.decision_tree(X_train, y_train, X_validate, y_validate, threshold=0.05, max_dep=25)"
   ]
  },
  {
   "cell_type": "markdown",
   "id": "3eda63ad",
   "metadata": {},
   "source": [
    "### Random Forest (All Data)"
   ]
  },
  {
   "cell_type": "code",
   "execution_count": 12,
   "id": "fbab860c",
   "metadata": {},
   "outputs": [
    {
     "data": {
      "text/html": [
       "<div>\n",
       "<style scoped>\n",
       "    .dataframe tbody tr th:only-of-type {\n",
       "        vertical-align: middle;\n",
       "    }\n",
       "\n",
       "    .dataframe tbody tr th {\n",
       "        vertical-align: top;\n",
       "    }\n",
       "\n",
       "    .dataframe thead th {\n",
       "        text-align: right;\n",
       "    }\n",
       "</style>\n",
       "<table border=\"1\" class=\"dataframe\">\n",
       "  <thead>\n",
       "    <tr style=\"text-align: right;\">\n",
       "      <th></th>\n",
       "      <th>max_depth</th>\n",
       "      <th>min_samples_leaf</th>\n",
       "      <th>train_accuracy</th>\n",
       "      <th>validate_accuracy</th>\n",
       "      <th>difference</th>\n",
       "    </tr>\n",
       "  </thead>\n",
       "  <tbody>\n",
       "    <tr>\n",
       "      <th>0</th>\n",
       "      <td>2</td>\n",
       "      <td>2</td>\n",
       "      <td>0.768958</td>\n",
       "      <td>0.765819</td>\n",
       "      <td>0.003139</td>\n",
       "    </tr>\n",
       "    <tr>\n",
       "      <th>1</th>\n",
       "      <td>2</td>\n",
       "      <td>3</td>\n",
       "      <td>0.768958</td>\n",
       "      <td>0.765819</td>\n",
       "      <td>0.003139</td>\n",
       "    </tr>\n",
       "    <tr>\n",
       "      <th>2</th>\n",
       "      <td>2</td>\n",
       "      <td>4</td>\n",
       "      <td>0.768958</td>\n",
       "      <td>0.765819</td>\n",
       "      <td>0.003139</td>\n",
       "    </tr>\n",
       "    <tr>\n",
       "      <th>3</th>\n",
       "      <td>2</td>\n",
       "      <td>5</td>\n",
       "      <td>0.768958</td>\n",
       "      <td>0.765819</td>\n",
       "      <td>0.003139</td>\n",
       "    </tr>\n",
       "    <tr>\n",
       "      <th>4</th>\n",
       "      <td>2</td>\n",
       "      <td>6</td>\n",
       "      <td>0.768958</td>\n",
       "      <td>0.765819</td>\n",
       "      <td>0.003139</td>\n",
       "    </tr>\n",
       "    <tr>\n",
       "      <th>5</th>\n",
       "      <td>3</td>\n",
       "      <td>2</td>\n",
       "      <td>0.788486</td>\n",
       "      <td>0.791839</td>\n",
       "      <td>-0.003353</td>\n",
       "    </tr>\n",
       "    <tr>\n",
       "      <th>6</th>\n",
       "      <td>3</td>\n",
       "      <td>3</td>\n",
       "      <td>0.788486</td>\n",
       "      <td>0.791839</td>\n",
       "      <td>-0.003353</td>\n",
       "    </tr>\n",
       "    <tr>\n",
       "      <th>7</th>\n",
       "      <td>3</td>\n",
       "      <td>4</td>\n",
       "      <td>0.788486</td>\n",
       "      <td>0.791839</td>\n",
       "      <td>-0.003353</td>\n",
       "    </tr>\n",
       "    <tr>\n",
       "      <th>8</th>\n",
       "      <td>3</td>\n",
       "      <td>5</td>\n",
       "      <td>0.788486</td>\n",
       "      <td>0.791839</td>\n",
       "      <td>-0.003353</td>\n",
       "    </tr>\n",
       "    <tr>\n",
       "      <th>9</th>\n",
       "      <td>3</td>\n",
       "      <td>6</td>\n",
       "      <td>0.788740</td>\n",
       "      <td>0.791839</td>\n",
       "      <td>-0.003100</td>\n",
       "    </tr>\n",
       "    <tr>\n",
       "      <th>10</th>\n",
       "      <td>4</td>\n",
       "      <td>2</td>\n",
       "      <td>0.794319</td>\n",
       "      <td>0.795387</td>\n",
       "      <td>-0.001068</td>\n",
       "    </tr>\n",
       "    <tr>\n",
       "      <th>11</th>\n",
       "      <td>4</td>\n",
       "      <td>3</td>\n",
       "      <td>0.794319</td>\n",
       "      <td>0.795387</td>\n",
       "      <td>-0.001068</td>\n",
       "    </tr>\n",
       "    <tr>\n",
       "      <th>12</th>\n",
       "      <td>4</td>\n",
       "      <td>4</td>\n",
       "      <td>0.793812</td>\n",
       "      <td>0.797161</td>\n",
       "      <td>-0.003350</td>\n",
       "    </tr>\n",
       "    <tr>\n",
       "      <th>13</th>\n",
       "      <td>4</td>\n",
       "      <td>5</td>\n",
       "      <td>0.794065</td>\n",
       "      <td>0.797161</td>\n",
       "      <td>-0.003096</td>\n",
       "    </tr>\n",
       "    <tr>\n",
       "      <th>14</th>\n",
       "      <td>4</td>\n",
       "      <td>6</td>\n",
       "      <td>0.793812</td>\n",
       "      <td>0.797161</td>\n",
       "      <td>-0.003350</td>\n",
       "    </tr>\n",
       "    <tr>\n",
       "      <th>15</th>\n",
       "      <td>5</td>\n",
       "      <td>2</td>\n",
       "      <td>0.805985</td>\n",
       "      <td>0.801892</td>\n",
       "      <td>0.004093</td>\n",
       "    </tr>\n",
       "    <tr>\n",
       "      <th>16</th>\n",
       "      <td>5</td>\n",
       "      <td>3</td>\n",
       "      <td>0.805985</td>\n",
       "      <td>0.802484</td>\n",
       "      <td>0.003502</td>\n",
       "    </tr>\n",
       "    <tr>\n",
       "      <th>17</th>\n",
       "      <td>5</td>\n",
       "      <td>4</td>\n",
       "      <td>0.805985</td>\n",
       "      <td>0.801892</td>\n",
       "      <td>0.004093</td>\n",
       "    </tr>\n",
       "    <tr>\n",
       "      <th>18</th>\n",
       "      <td>5</td>\n",
       "      <td>5</td>\n",
       "      <td>0.805478</td>\n",
       "      <td>0.803075</td>\n",
       "      <td>0.002403</td>\n",
       "    </tr>\n",
       "    <tr>\n",
       "      <th>19</th>\n",
       "      <td>5</td>\n",
       "      <td>6</td>\n",
       "      <td>0.805478</td>\n",
       "      <td>0.804258</td>\n",
       "      <td>0.001220</td>\n",
       "    </tr>\n",
       "    <tr>\n",
       "      <th>20</th>\n",
       "      <td>6</td>\n",
       "      <td>2</td>\n",
       "      <td>0.818159</td>\n",
       "      <td>0.808397</td>\n",
       "      <td>0.009761</td>\n",
       "    </tr>\n",
       "    <tr>\n",
       "      <th>21</th>\n",
       "      <td>6</td>\n",
       "      <td>3</td>\n",
       "      <td>0.817144</td>\n",
       "      <td>0.800710</td>\n",
       "      <td>0.016435</td>\n",
       "    </tr>\n",
       "    <tr>\n",
       "      <th>22</th>\n",
       "      <td>6</td>\n",
       "      <td>4</td>\n",
       "      <td>0.818159</td>\n",
       "      <td>0.800710</td>\n",
       "      <td>0.017449</td>\n",
       "    </tr>\n",
       "    <tr>\n",
       "      <th>23</th>\n",
       "      <td>6</td>\n",
       "      <td>5</td>\n",
       "      <td>0.817144</td>\n",
       "      <td>0.802484</td>\n",
       "      <td>0.014661</td>\n",
       "    </tr>\n",
       "    <tr>\n",
       "      <th>24</th>\n",
       "      <td>6</td>\n",
       "      <td>6</td>\n",
       "      <td>0.814862</td>\n",
       "      <td>0.804849</td>\n",
       "      <td>0.010013</td>\n",
       "    </tr>\n",
       "  </tbody>\n",
       "</table>\n",
       "</div>"
      ],
      "text/plain": [
       "    max_depth  min_samples_leaf  train_accuracy  validate_accuracy  difference\n",
       "0           2                 2        0.768958           0.765819    0.003139\n",
       "1           2                 3        0.768958           0.765819    0.003139\n",
       "2           2                 4        0.768958           0.765819    0.003139\n",
       "3           2                 5        0.768958           0.765819    0.003139\n",
       "4           2                 6        0.768958           0.765819    0.003139\n",
       "5           3                 2        0.788486           0.791839   -0.003353\n",
       "6           3                 3        0.788486           0.791839   -0.003353\n",
       "7           3                 4        0.788486           0.791839   -0.003353\n",
       "8           3                 5        0.788486           0.791839   -0.003353\n",
       "9           3                 6        0.788740           0.791839   -0.003100\n",
       "10          4                 2        0.794319           0.795387   -0.001068\n",
       "11          4                 3        0.794319           0.795387   -0.001068\n",
       "12          4                 4        0.793812           0.797161   -0.003350\n",
       "13          4                 5        0.794065           0.797161   -0.003096\n",
       "14          4                 6        0.793812           0.797161   -0.003350\n",
       "15          5                 2        0.805985           0.801892    0.004093\n",
       "16          5                 3        0.805985           0.802484    0.003502\n",
       "17          5                 4        0.805985           0.801892    0.004093\n",
       "18          5                 5        0.805478           0.803075    0.002403\n",
       "19          5                 6        0.805478           0.804258    0.001220\n",
       "20          6                 2        0.818159           0.808397    0.009761\n",
       "21          6                 3        0.817144           0.800710    0.016435\n",
       "22          6                 4        0.818159           0.800710    0.017449\n",
       "23          6                 5        0.817144           0.802484    0.014661\n",
       "24          6                 6        0.814862           0.804849    0.010013"
      ]
     },
     "execution_count": 12,
     "metadata": {},
     "output_type": "execute_result"
    },
    {
     "data": {
      "image/png": "[encoded data removed]",
      "text/plain": [
       "<Figure size 1152x648 with 1 Axes>"
      ]
     },
     "metadata": {
      "needs_background": "light"
     },
     "output_type": "display_data"
    }
   ],
   "source": [
    "model.rand_forest(X_train, y_train, X_validate, y_validate, threshold=0.05, max_dep=7)"
   ]
  },
  {
   "cell_type": "markdown",
   "id": "f3037c50",
   "metadata": {},
   "source": [
    "### KNN (All Data)"
   ]
  },
  {
   "cell_type": "code",
   "execution_count": 13,
   "id": "500cc50a",
   "metadata": {},
   "outputs": [
    {
     "data": {
      "text/html": [
       "<div>\n",
       "<style scoped>\n",
       "    .dataframe tbody tr th:only-of-type {\n",
       "        vertical-align: middle;\n",
       "    }\n",
       "\n",
       "    .dataframe tbody tr th {\n",
       "        vertical-align: top;\n",
       "    }\n",
       "\n",
       "    .dataframe thead th {\n",
       "        text-align: right;\n",
       "    }\n",
       "</style>\n",
       "<table border=\"1\" class=\"dataframe\">\n",
       "  <thead>\n",
       "    <tr style=\"text-align: right;\">\n",
       "      <th></th>\n",
       "      <th>k</th>\n",
       "      <th>train_accuracy</th>\n",
       "      <th>validate_accuracy</th>\n",
       "      <th>difference</th>\n",
       "    </tr>\n",
       "  </thead>\n",
       "  <tbody>\n",
       "    <tr>\n",
       "      <th>0</th>\n",
       "      <td>1</td>\n",
       "      <td>0.997464</td>\n",
       "      <td>0.704317</td>\n",
       "      <td>0.293147</td>\n",
       "    </tr>\n",
       "    <tr>\n",
       "      <th>1</th>\n",
       "      <td>2</td>\n",
       "      <td>0.855186</td>\n",
       "      <td>0.746895</td>\n",
       "      <td>0.108291</td>\n",
       "    </tr>\n",
       "    <tr>\n",
       "      <th>2</th>\n",
       "      <td>3</td>\n",
       "      <td>0.853411</td>\n",
       "      <td>0.738616</td>\n",
       "      <td>0.114795</td>\n",
       "    </tr>\n",
       "    <tr>\n",
       "      <th>3</th>\n",
       "      <td>4</td>\n",
       "      <td>0.830079</td>\n",
       "      <td>0.762862</td>\n",
       "      <td>0.067216</td>\n",
       "    </tr>\n",
       "    <tr>\n",
       "      <th>4</th>\n",
       "      <td>5</td>\n",
       "      <td>0.833376</td>\n",
       "      <td>0.755766</td>\n",
       "      <td>0.077610</td>\n",
       "    </tr>\n",
       "    <tr>\n",
       "      <th>5</th>\n",
       "      <td>6</td>\n",
       "      <td>0.825006</td>\n",
       "      <td>0.770550</td>\n",
       "      <td>0.054456</td>\n",
       "    </tr>\n",
       "    <tr>\n",
       "      <th>6</th>\n",
       "      <td>7</td>\n",
       "      <td>0.823485</td>\n",
       "      <td>0.767002</td>\n",
       "      <td>0.056483</td>\n",
       "    </tr>\n",
       "    <tr>\n",
       "      <th>7</th>\n",
       "      <td>8</td>\n",
       "      <td>0.819934</td>\n",
       "      <td>0.773507</td>\n",
       "      <td>0.046427</td>\n",
       "    </tr>\n",
       "    <tr>\n",
       "      <th>8</th>\n",
       "      <td>9</td>\n",
       "      <td>0.818920</td>\n",
       "      <td>0.767593</td>\n",
       "      <td>0.051326</td>\n",
       "    </tr>\n",
       "    <tr>\n",
       "      <th>9</th>\n",
       "      <td>10</td>\n",
       "      <td>0.813340</td>\n",
       "      <td>0.778829</td>\n",
       "      <td>0.034511</td>\n",
       "    </tr>\n",
       "    <tr>\n",
       "      <th>10</th>\n",
       "      <td>11</td>\n",
       "      <td>0.812833</td>\n",
       "      <td>0.778829</td>\n",
       "      <td>0.034004</td>\n",
       "    </tr>\n",
       "    <tr>\n",
       "      <th>11</th>\n",
       "      <td>12</td>\n",
       "      <td>0.805985</td>\n",
       "      <td>0.779420</td>\n",
       "      <td>0.026565</td>\n",
       "    </tr>\n",
       "    <tr>\n",
       "      <th>12</th>\n",
       "      <td>13</td>\n",
       "      <td>0.806239</td>\n",
       "      <td>0.782969</td>\n",
       "      <td>0.023270</td>\n",
       "    </tr>\n",
       "    <tr>\n",
       "      <th>13</th>\n",
       "      <td>14</td>\n",
       "      <td>0.800913</td>\n",
       "      <td>0.790065</td>\n",
       "      <td>0.010848</td>\n",
       "    </tr>\n",
       "    <tr>\n",
       "      <th>14</th>\n",
       "      <td>15</td>\n",
       "      <td>0.801927</td>\n",
       "      <td>0.785925</td>\n",
       "      <td>0.016002</td>\n",
       "    </tr>\n",
       "    <tr>\n",
       "      <th>15</th>\n",
       "      <td>16</td>\n",
       "      <td>0.797362</td>\n",
       "      <td>0.784743</td>\n",
       "      <td>0.012620</td>\n",
       "    </tr>\n",
       "    <tr>\n",
       "      <th>16</th>\n",
       "      <td>17</td>\n",
       "      <td>0.797109</td>\n",
       "      <td>0.784151</td>\n",
       "      <td>0.012957</td>\n",
       "    </tr>\n",
       "    <tr>\n",
       "      <th>17</th>\n",
       "      <td>18</td>\n",
       "      <td>0.794826</td>\n",
       "      <td>0.788882</td>\n",
       "      <td>0.005944</td>\n",
       "    </tr>\n",
       "    <tr>\n",
       "      <th>18</th>\n",
       "      <td>19</td>\n",
       "      <td>0.795841</td>\n",
       "      <td>0.789474</td>\n",
       "      <td>0.006367</td>\n",
       "    </tr>\n",
       "    <tr>\n",
       "      <th>19</th>\n",
       "      <td>20</td>\n",
       "      <td>0.794826</td>\n",
       "      <td>0.790065</td>\n",
       "      <td>0.004761</td>\n",
       "    </tr>\n",
       "    <tr>\n",
       "      <th>20</th>\n",
       "      <td>21</td>\n",
       "      <td>0.795334</td>\n",
       "      <td>0.787108</td>\n",
       "      <td>0.008225</td>\n",
       "    </tr>\n",
       "    <tr>\n",
       "      <th>21</th>\n",
       "      <td>22</td>\n",
       "      <td>0.791529</td>\n",
       "      <td>0.787700</td>\n",
       "      <td>0.003830</td>\n",
       "    </tr>\n",
       "    <tr>\n",
       "      <th>22</th>\n",
       "      <td>23</td>\n",
       "      <td>0.788740</td>\n",
       "      <td>0.785334</td>\n",
       "      <td>0.003405</td>\n",
       "    </tr>\n",
       "    <tr>\n",
       "      <th>23</th>\n",
       "      <td>24</td>\n",
       "      <td>0.792290</td>\n",
       "      <td>0.784743</td>\n",
       "      <td>0.007547</td>\n",
       "    </tr>\n",
       "    <tr>\n",
       "      <th>24</th>\n",
       "      <td>25</td>\n",
       "      <td>0.790261</td>\n",
       "      <td>0.784743</td>\n",
       "      <td>0.005518</td>\n",
       "    </tr>\n",
       "  </tbody>\n",
       "</table>\n",
       "</div>"
      ],
      "text/plain": [
       "     k  train_accuracy  validate_accuracy  difference\n",
       "0    1        0.997464           0.704317    0.293147\n",
       "1    2        0.855186           0.746895    0.108291\n",
       "2    3        0.853411           0.738616    0.114795\n",
       "3    4        0.830079           0.762862    0.067216\n",
       "4    5        0.833376           0.755766    0.077610\n",
       "5    6        0.825006           0.770550    0.054456\n",
       "6    7        0.823485           0.767002    0.056483\n",
       "7    8        0.819934           0.773507    0.046427\n",
       "8    9        0.818920           0.767593    0.051326\n",
       "9   10        0.813340           0.778829    0.034511\n",
       "10  11        0.812833           0.778829    0.034004\n",
       "11  12        0.805985           0.779420    0.026565\n",
       "12  13        0.806239           0.782969    0.023270\n",
       "13  14        0.800913           0.790065    0.010848\n",
       "14  15        0.801927           0.785925    0.016002\n",
       "15  16        0.797362           0.784743    0.012620\n",
       "16  17        0.797109           0.784151    0.012957\n",
       "17  18        0.794826           0.788882    0.005944\n",
       "18  19        0.795841           0.789474    0.006367\n",
       "19  20        0.794826           0.790065    0.004761\n",
       "20  21        0.795334           0.787108    0.008225\n",
       "21  22        0.791529           0.787700    0.003830\n",
       "22  23        0.788740           0.785334    0.003405\n",
       "23  24        0.792290           0.784743    0.007547\n",
       "24  25        0.790261           0.784743    0.005518"
      ]
     },
     "execution_count": 13,
     "metadata": {},
     "output_type": "execute_result"
    },
    {
     "data": {
      "image/png": "[encoded data removed]",
      "text/plain": [
       "<Figure size 1152x648 with 1 Axes>"
      ]
     },
     "metadata": {
      "needs_background": "light"
     },
     "output_type": "display_data"
    }
   ],
   "source": [
    "model.knn(X_train, y_train, X_validate, y_validate, max_k = 26)"
   ]
  },
  {
   "cell_type": "markdown",
   "id": "45520547",
   "metadata": {},
   "source": [
    "### Logistic Regression (All Data)"
   ]
  },
  {
   "cell_type": "code",
   "execution_count": 14,
   "id": "49e8d22c",
   "metadata": {},
   "outputs": [
    {
     "name": "stdout",
     "output_type": "stream",
     "text": [
      "Coefficient: \n",
      " [[ 3.54672656e-01  5.67687387e-02 -1.76193419e-01 -5.95849439e-02\n",
      "  -6.18197992e-01  2.14003082e-01 -4.75613780e-01 -1.19982219e-01\n",
      "  -5.57187124e-02 -5.15066948e-01  1.97773272e-01  8.04089623e-02\n",
      "   3.88628082e-01  7.21272156e-03  2.96122257e-04 -1.81425482e-01\n",
      "  -1.18216405e-01  4.77695178e-01 -3.03800191e-01 -4.73536875e-01\n",
      "  -8.08377234e-03  3.03483693e-01 -5.95041809e-01 -1.16201936e-01\n",
      "  -1.43994058e-01  2.31629029e-01 -2.71074923e-01]]\n",
      "Intercept: \n",
      " [-0.3024284]\n",
      "Train Confusion Matrix:\n",
      "[[2598  299]\n",
      " [ 469  577]]\n",
      "\n",
      "Train Data:\n"
     ]
    },
    {
     "data": {
      "text/html": [
       "<div>\n",
       "<style scoped>\n",
       "    .dataframe tbody tr th:only-of-type {\n",
       "        vertical-align: middle;\n",
       "    }\n",
       "\n",
       "    .dataframe tbody tr th {\n",
       "        vertical-align: top;\n",
       "    }\n",
       "\n",
       "    .dataframe thead th {\n",
       "        text-align: right;\n",
       "    }\n",
       "</style>\n",
       "<table border=\"1\" class=\"dataframe\">\n",
       "  <thead>\n",
       "    <tr style=\"text-align: right;\">\n",
       "      <th></th>\n",
       "      <th>0</th>\n",
       "      <th>1</th>\n",
       "      <th>accuracy</th>\n",
       "      <th>macro avg</th>\n",
       "      <th>weighted avg</th>\n",
       "    </tr>\n",
       "  </thead>\n",
       "  <tbody>\n",
       "    <tr>\n",
       "      <th>precision</th>\n",
       "      <td>0.847082</td>\n",
       "      <td>0.658676</td>\n",
       "      <td>0.805224</td>\n",
       "      <td>0.752879</td>\n",
       "      <td>0.797101</td>\n",
       "    </tr>\n",
       "    <tr>\n",
       "      <th>recall</th>\n",
       "      <td>0.896790</td>\n",
       "      <td>0.551625</td>\n",
       "      <td>0.805224</td>\n",
       "      <td>0.724208</td>\n",
       "      <td>0.805224</td>\n",
       "    </tr>\n",
       "    <tr>\n",
       "      <th>f1-score</th>\n",
       "      <td>0.871227</td>\n",
       "      <td>0.600416</td>\n",
       "      <td>0.805224</td>\n",
       "      <td>0.735822</td>\n",
       "      <td>0.799387</td>\n",
       "    </tr>\n",
       "    <tr>\n",
       "      <th>support</th>\n",
       "      <td>2897.000000</td>\n",
       "      <td>1046.000000</td>\n",
       "      <td>0.805224</td>\n",
       "      <td>3943.000000</td>\n",
       "      <td>3943.000000</td>\n",
       "    </tr>\n",
       "  </tbody>\n",
       "</table>\n",
       "</div>"
      ],
      "text/plain": [
       "                     0            1  accuracy    macro avg  weighted avg\n",
       "precision     0.847082     0.658676  0.805224     0.752879      0.797101\n",
       "recall        0.896790     0.551625  0.805224     0.724208      0.805224\n",
       "f1-score      0.871227     0.600416  0.805224     0.735822      0.799387\n",
       "support    2897.000000  1046.000000  0.805224  3943.000000   3943.000000"
      ]
     },
     "execution_count": 14,
     "metadata": {},
     "output_type": "execute_result"
    }
   ],
   "source": [
    "model.log_regression(X_train, y_train)"
   ]
  },
  {
   "cell_type": "code",
   "execution_count": 15,
   "id": "37ab0ff1",
   "metadata": {},
   "outputs": [
    {
     "name": "stdout",
     "output_type": "stream",
     "text": [
      "Coefficient: \n",
      " [[ 3.54672656e-01  5.67687387e-02 -1.76193419e-01 -5.95849439e-02\n",
      "  -6.18197992e-01  2.14003082e-01 -4.75613780e-01 -1.19982219e-01\n",
      "  -5.57187124e-02 -5.15066948e-01  1.97773272e-01  8.04089623e-02\n",
      "   3.88628082e-01  7.21272156e-03  2.96122257e-04 -1.81425482e-01\n",
      "  -1.18216405e-01  4.77695178e-01 -3.03800191e-01 -4.73536875e-01\n",
      "  -8.08377234e-03  3.03483693e-01 -5.95041809e-01 -1.16201936e-01\n",
      "  -1.43994058e-01  2.31629029e-01 -2.71074923e-01]]\n",
      "Intercept: \n",
      " [-0.3024284]\n",
      "Validate Confusion Matrix:\n",
      "[[1113  129]\n",
      " [ 222  227]]\n",
      "\n",
      "Validate Data:\n"
     ]
    },
    {
     "data": {
      "text/html": [
       "<div>\n",
       "<style scoped>\n",
       "    .dataframe tbody tr th:only-of-type {\n",
       "        vertical-align: middle;\n",
       "    }\n",
       "\n",
       "    .dataframe tbody tr th {\n",
       "        vertical-align: top;\n",
       "    }\n",
       "\n",
       "    .dataframe thead th {\n",
       "        text-align: right;\n",
       "    }\n",
       "</style>\n",
       "<table border=\"1\" class=\"dataframe\">\n",
       "  <thead>\n",
       "    <tr style=\"text-align: right;\">\n",
       "      <th></th>\n",
       "      <th>0</th>\n",
       "      <th>1</th>\n",
       "      <th>accuracy</th>\n",
       "      <th>macro avg</th>\n",
       "      <th>weighted avg</th>\n",
       "    </tr>\n",
       "  </thead>\n",
       "  <tbody>\n",
       "    <tr>\n",
       "      <th>precision</th>\n",
       "      <td>0.833708</td>\n",
       "      <td>0.637640</td>\n",
       "      <td>0.792431</td>\n",
       "      <td>0.735674</td>\n",
       "      <td>0.781647</td>\n",
       "    </tr>\n",
       "    <tr>\n",
       "      <th>recall</th>\n",
       "      <td>0.896135</td>\n",
       "      <td>0.505568</td>\n",
       "      <td>0.792431</td>\n",
       "      <td>0.700852</td>\n",
       "      <td>0.792431</td>\n",
       "    </tr>\n",
       "    <tr>\n",
       "      <th>f1-score</th>\n",
       "      <td>0.863795</td>\n",
       "      <td>0.563975</td>\n",
       "      <td>0.792431</td>\n",
       "      <td>0.713885</td>\n",
       "      <td>0.784186</td>\n",
       "    </tr>\n",
       "    <tr>\n",
       "      <th>support</th>\n",
       "      <td>1242.000000</td>\n",
       "      <td>449.000000</td>\n",
       "      <td>0.792431</td>\n",
       "      <td>1691.000000</td>\n",
       "      <td>1691.000000</td>\n",
       "    </tr>\n",
       "  </tbody>\n",
       "</table>\n",
       "</div>"
      ],
      "text/plain": [
       "                     0           1  accuracy    macro avg  weighted avg\n",
       "precision     0.833708    0.637640  0.792431     0.735674      0.781647\n",
       "recall        0.896135    0.505568  0.792431     0.700852      0.792431\n",
       "f1-score      0.863795    0.563975  0.792431     0.713885      0.784186\n",
       "support    1242.000000  449.000000  0.792431  1691.000000   1691.000000"
      ]
     },
     "execution_count": 15,
     "metadata": {},
     "output_type": "execute_result"
    }
   ],
   "source": [
    "model.log_regression_val(X_train, y_train, X_validate, y_validate)"
   ]
  },
  {
   "cell_type": "markdown",
   "id": "616608cd",
   "metadata": {},
   "source": [
    "## Model & Evaluate (Select Features):"
   ]
  },
  {
   "cell_type": "code",
   "execution_count": 16,
   "id": "5770e655",
   "metadata": {},
   "outputs": [],
   "source": [
    "X_train_feature = train.drop(columns=['customer_id', 'churn', 'female', 'male', 'phone_service', 'total_charges'])\n",
    "y_train_feature = train.churn\n",
    "\n",
    "X_validate_feature = validate.drop(columns=['customer_id', 'churn', 'female', 'male', 'phone_service', 'total_charges'])\n",
    "y_validate_feature = validate.churn\n",
    "\n",
    "X_test_feature = test.drop(columns=['customer_id', 'churn', 'female', 'male', 'phone_service', 'total_charges'])\n",
    "y_test_feature = test.churn"
   ]
  },
  {
   "cell_type": "markdown",
   "id": "a3ccb509",
   "metadata": {},
   "source": [
    "### Features Removed:\n",
    "- Male/Female: p > 0.05 (Chi2)\n",
    "- Phone Service: p > 0.05 (Chi2)\n",
    "- Total Charges: Redundant due to being a function of Tenure * Monthly Charges"
   ]
  },
  {
   "cell_type": "markdown",
   "id": "3da4ad05",
   "metadata": {},
   "source": [
    "### Decision Tree (Select Features)¶"
   ]
  },
  {
   "cell_type": "code",
   "execution_count": 17,
   "id": "6eb2bff4",
   "metadata": {},
   "outputs": [
    {
     "data": {
      "text/html": [
       "<div>\n",
       "<style scoped>\n",
       "    .dataframe tbody tr th:only-of-type {\n",
       "        vertical-align: middle;\n",
       "    }\n",
       "\n",
       "    .dataframe tbody tr th {\n",
       "        vertical-align: top;\n",
       "    }\n",
       "\n",
       "    .dataframe thead th {\n",
       "        text-align: right;\n",
       "    }\n",
       "</style>\n",
       "<table border=\"1\" class=\"dataframe\">\n",
       "  <thead>\n",
       "    <tr style=\"text-align: right;\">\n",
       "      <th></th>\n",
       "      <th>max_depth</th>\n",
       "      <th>train_accuracy</th>\n",
       "      <th>validate_accuracy</th>\n",
       "      <th>difference</th>\n",
       "    </tr>\n",
       "  </thead>\n",
       "  <tbody>\n",
       "    <tr>\n",
       "      <th>0</th>\n",
       "      <td>2</td>\n",
       "      <td>0.760588</td>\n",
       "      <td>0.769367</td>\n",
       "      <td>-0.008779</td>\n",
       "    </tr>\n",
       "    <tr>\n",
       "      <th>1</th>\n",
       "      <td>3</td>\n",
       "      <td>0.792037</td>\n",
       "      <td>0.793613</td>\n",
       "      <td>-0.001577</td>\n",
       "    </tr>\n",
       "    <tr>\n",
       "      <th>2</th>\n",
       "      <td>4</td>\n",
       "      <td>0.795080</td>\n",
       "      <td>0.781786</td>\n",
       "      <td>0.013294</td>\n",
       "    </tr>\n",
       "    <tr>\n",
       "      <th>3</th>\n",
       "      <td>5</td>\n",
       "      <td>0.798377</td>\n",
       "      <td>0.794205</td>\n",
       "      <td>0.004172</td>\n",
       "    </tr>\n",
       "    <tr>\n",
       "      <th>4</th>\n",
       "      <td>6</td>\n",
       "      <td>0.812326</td>\n",
       "      <td>0.781786</td>\n",
       "      <td>0.030540</td>\n",
       "    </tr>\n",
       "    <tr>\n",
       "      <th>5</th>\n",
       "      <td>7</td>\n",
       "      <td>0.826021</td>\n",
       "      <td>0.782377</td>\n",
       "      <td>0.043644</td>\n",
       "    </tr>\n",
       "  </tbody>\n",
       "</table>\n",
       "</div>"
      ],
      "text/plain": [
       "   max_depth  train_accuracy  validate_accuracy  difference\n",
       "0          2        0.760588           0.769367   -0.008779\n",
       "1          3        0.792037           0.793613   -0.001577\n",
       "2          4        0.795080           0.781786    0.013294\n",
       "3          5        0.798377           0.794205    0.004172\n",
       "4          6        0.812326           0.781786    0.030540\n",
       "5          7        0.826021           0.782377    0.043644"
      ]
     },
     "execution_count": 17,
     "metadata": {},
     "output_type": "execute_result"
    },
    {
     "data": {
      "image/png": "[encoded data removed]",
      "text/plain": [
       "<Figure size 1152x648 with 1 Axes>"
      ]
     },
     "metadata": {
      "needs_background": "light"
     },
     "output_type": "display_data"
    }
   ],
   "source": [
    "model.decision_tree(X_train_feature, y_train_feature, X_validate_feature, y_validate_feature, threshold=0.05, max_dep=25)"
   ]
  },
  {
   "cell_type": "markdown",
   "id": "e38ec550",
   "metadata": {},
   "source": [
    "### Random Forest (Select Features)"
   ]
  },
  {
   "cell_type": "code",
   "execution_count": 18,
   "id": "b2183734",
   "metadata": {},
   "outputs": [
    {
     "data": {
      "text/html": [
       "<div>\n",
       "<style scoped>\n",
       "    .dataframe tbody tr th:only-of-type {\n",
       "        vertical-align: middle;\n",
       "    }\n",
       "\n",
       "    .dataframe tbody tr th {\n",
       "        vertical-align: top;\n",
       "    }\n",
       "\n",
       "    .dataframe thead th {\n",
       "        text-align: right;\n",
       "    }\n",
       "</style>\n",
       "<table border=\"1\" class=\"dataframe\">\n",
       "  <thead>\n",
       "    <tr style=\"text-align: right;\">\n",
       "      <th></th>\n",
       "      <th>max_depth</th>\n",
       "      <th>min_samples_leaf</th>\n",
       "      <th>train_accuracy</th>\n",
       "      <th>validate_accuracy</th>\n",
       "      <th>difference</th>\n",
       "    </tr>\n",
       "  </thead>\n",
       "  <tbody>\n",
       "    <tr>\n",
       "      <th>0</th>\n",
       "      <td>2</td>\n",
       "      <td>2</td>\n",
       "      <td>0.734720</td>\n",
       "      <td>0.734477</td>\n",
       "      <td>0.000243</td>\n",
       "    </tr>\n",
       "    <tr>\n",
       "      <th>1</th>\n",
       "      <td>2</td>\n",
       "      <td>3</td>\n",
       "      <td>0.734720</td>\n",
       "      <td>0.734477</td>\n",
       "      <td>0.000243</td>\n",
       "    </tr>\n",
       "    <tr>\n",
       "      <th>2</th>\n",
       "      <td>2</td>\n",
       "      <td>4</td>\n",
       "      <td>0.734720</td>\n",
       "      <td>0.734477</td>\n",
       "      <td>0.000243</td>\n",
       "    </tr>\n",
       "    <tr>\n",
       "      <th>3</th>\n",
       "      <td>2</td>\n",
       "      <td>5</td>\n",
       "      <td>0.734720</td>\n",
       "      <td>0.734477</td>\n",
       "      <td>0.000243</td>\n",
       "    </tr>\n",
       "    <tr>\n",
       "      <th>4</th>\n",
       "      <td>2</td>\n",
       "      <td>6</td>\n",
       "      <td>0.734720</td>\n",
       "      <td>0.734477</td>\n",
       "      <td>0.000243</td>\n",
       "    </tr>\n",
       "    <tr>\n",
       "      <th>5</th>\n",
       "      <td>3</td>\n",
       "      <td>2</td>\n",
       "      <td>0.786711</td>\n",
       "      <td>0.785334</td>\n",
       "      <td>0.001377</td>\n",
       "    </tr>\n",
       "    <tr>\n",
       "      <th>6</th>\n",
       "      <td>3</td>\n",
       "      <td>3</td>\n",
       "      <td>0.786711</td>\n",
       "      <td>0.785334</td>\n",
       "      <td>0.001377</td>\n",
       "    </tr>\n",
       "    <tr>\n",
       "      <th>7</th>\n",
       "      <td>3</td>\n",
       "      <td>4</td>\n",
       "      <td>0.786711</td>\n",
       "      <td>0.785334</td>\n",
       "      <td>0.001377</td>\n",
       "    </tr>\n",
       "    <tr>\n",
       "      <th>8</th>\n",
       "      <td>3</td>\n",
       "      <td>5</td>\n",
       "      <td>0.786711</td>\n",
       "      <td>0.785334</td>\n",
       "      <td>0.001377</td>\n",
       "    </tr>\n",
       "    <tr>\n",
       "      <th>9</th>\n",
       "      <td>3</td>\n",
       "      <td>6</td>\n",
       "      <td>0.786711</td>\n",
       "      <td>0.785334</td>\n",
       "      <td>0.001377</td>\n",
       "    </tr>\n",
       "    <tr>\n",
       "      <th>10</th>\n",
       "      <td>4</td>\n",
       "      <td>2</td>\n",
       "      <td>0.793051</td>\n",
       "      <td>0.800118</td>\n",
       "      <td>-0.007067</td>\n",
       "    </tr>\n",
       "    <tr>\n",
       "      <th>11</th>\n",
       "      <td>4</td>\n",
       "      <td>3</td>\n",
       "      <td>0.793305</td>\n",
       "      <td>0.800118</td>\n",
       "      <td>-0.006814</td>\n",
       "    </tr>\n",
       "    <tr>\n",
       "      <th>12</th>\n",
       "      <td>4</td>\n",
       "      <td>4</td>\n",
       "      <td>0.791783</td>\n",
       "      <td>0.797753</td>\n",
       "      <td>-0.005970</td>\n",
       "    </tr>\n",
       "    <tr>\n",
       "      <th>13</th>\n",
       "      <td>4</td>\n",
       "      <td>5</td>\n",
       "      <td>0.792544</td>\n",
       "      <td>0.797753</td>\n",
       "      <td>-0.005209</td>\n",
       "    </tr>\n",
       "    <tr>\n",
       "      <th>14</th>\n",
       "      <td>4</td>\n",
       "      <td>6</td>\n",
       "      <td>0.792544</td>\n",
       "      <td>0.800118</td>\n",
       "      <td>-0.007575</td>\n",
       "    </tr>\n",
       "    <tr>\n",
       "      <th>15</th>\n",
       "      <td>5</td>\n",
       "      <td>2</td>\n",
       "      <td>0.802688</td>\n",
       "      <td>0.800118</td>\n",
       "      <td>0.002570</td>\n",
       "    </tr>\n",
       "    <tr>\n",
       "      <th>16</th>\n",
       "      <td>5</td>\n",
       "      <td>3</td>\n",
       "      <td>0.802688</td>\n",
       "      <td>0.797161</td>\n",
       "      <td>0.005527</td>\n",
       "    </tr>\n",
       "    <tr>\n",
       "      <th>17</th>\n",
       "      <td>5</td>\n",
       "      <td>4</td>\n",
       "      <td>0.805732</td>\n",
       "      <td>0.798344</td>\n",
       "      <td>0.007388</td>\n",
       "    </tr>\n",
       "    <tr>\n",
       "      <th>18</th>\n",
       "      <td>5</td>\n",
       "      <td>5</td>\n",
       "      <td>0.803449</td>\n",
       "      <td>0.801892</td>\n",
       "      <td>0.001557</td>\n",
       "    </tr>\n",
       "    <tr>\n",
       "      <th>19</th>\n",
       "      <td>5</td>\n",
       "      <td>6</td>\n",
       "      <td>0.804464</td>\n",
       "      <td>0.802484</td>\n",
       "      <td>0.001980</td>\n",
       "    </tr>\n",
       "    <tr>\n",
       "      <th>20</th>\n",
       "      <td>6</td>\n",
       "      <td>2</td>\n",
       "      <td>0.812579</td>\n",
       "      <td>0.801301</td>\n",
       "      <td>0.011278</td>\n",
       "    </tr>\n",
       "    <tr>\n",
       "      <th>21</th>\n",
       "      <td>6</td>\n",
       "      <td>3</td>\n",
       "      <td>0.813340</td>\n",
       "      <td>0.804258</td>\n",
       "      <td>0.009082</td>\n",
       "    </tr>\n",
       "    <tr>\n",
       "      <th>22</th>\n",
       "      <td>6</td>\n",
       "      <td>4</td>\n",
       "      <td>0.811565</td>\n",
       "      <td>0.802484</td>\n",
       "      <td>0.009081</td>\n",
       "    </tr>\n",
       "    <tr>\n",
       "      <th>23</th>\n",
       "      <td>6</td>\n",
       "      <td>5</td>\n",
       "      <td>0.813594</td>\n",
       "      <td>0.804258</td>\n",
       "      <td>0.009336</td>\n",
       "    </tr>\n",
       "    <tr>\n",
       "      <th>24</th>\n",
       "      <td>6</td>\n",
       "      <td>6</td>\n",
       "      <td>0.811311</td>\n",
       "      <td>0.801892</td>\n",
       "      <td>0.009419</td>\n",
       "    </tr>\n",
       "  </tbody>\n",
       "</table>\n",
       "</div>"
      ],
      "text/plain": [
       "    max_depth  min_samples_leaf  train_accuracy  validate_accuracy  difference\n",
       "0           2                 2        0.734720           0.734477    0.000243\n",
       "1           2                 3        0.734720           0.734477    0.000243\n",
       "2           2                 4        0.734720           0.734477    0.000243\n",
       "3           2                 5        0.734720           0.734477    0.000243\n",
       "4           2                 6        0.734720           0.734477    0.000243\n",
       "5           3                 2        0.786711           0.785334    0.001377\n",
       "6           3                 3        0.786711           0.785334    0.001377\n",
       "7           3                 4        0.786711           0.785334    0.001377\n",
       "8           3                 5        0.786711           0.785334    0.001377\n",
       "9           3                 6        0.786711           0.785334    0.001377\n",
       "10          4                 2        0.793051           0.800118   -0.007067\n",
       "11          4                 3        0.793305           0.800118   -0.006814\n",
       "12          4                 4        0.791783           0.797753   -0.005970\n",
       "13          4                 5        0.792544           0.797753   -0.005209\n",
       "14          4                 6        0.792544           0.800118   -0.007575\n",
       "15          5                 2        0.802688           0.800118    0.002570\n",
       "16          5                 3        0.802688           0.797161    0.005527\n",
       "17          5                 4        0.805732           0.798344    0.007388\n",
       "18          5                 5        0.803449           0.801892    0.001557\n",
       "19          5                 6        0.804464           0.802484    0.001980\n",
       "20          6                 2        0.812579           0.801301    0.011278\n",
       "21          6                 3        0.813340           0.804258    0.009082\n",
       "22          6                 4        0.811565           0.802484    0.009081\n",
       "23          6                 5        0.813594           0.804258    0.009336\n",
       "24          6                 6        0.811311           0.801892    0.009419"
      ]
     },
     "execution_count": 18,
     "metadata": {},
     "output_type": "execute_result"
    },
    {
     "data": {
      "image/png": "[encoded data removed]",
      "text/plain": [
       "<Figure size 1152x648 with 1 Axes>"
      ]
     },
     "metadata": {
      "needs_background": "light"
     },
     "output_type": "display_data"
    }
   ],
   "source": [
    "model.rand_forest(X_train_feature, y_train_feature, X_validate_feature, y_validate_feature, threshold=0.05, max_dep=7)"
   ]
  },
  {
   "cell_type": "markdown",
   "id": "d0cb8574",
   "metadata": {},
   "source": [
    "### KNN (Select Features)"
   ]
  },
  {
   "cell_type": "code",
   "execution_count": 19,
   "id": "3eb151ac",
   "metadata": {},
   "outputs": [
    {
     "data": {
      "text/html": [
       "<div>\n",
       "<style scoped>\n",
       "    .dataframe tbody tr th:only-of-type {\n",
       "        vertical-align: middle;\n",
       "    }\n",
       "\n",
       "    .dataframe tbody tr th {\n",
       "        vertical-align: top;\n",
       "    }\n",
       "\n",
       "    .dataframe thead th {\n",
       "        text-align: right;\n",
       "    }\n",
       "</style>\n",
       "<table border=\"1\" class=\"dataframe\">\n",
       "  <thead>\n",
       "    <tr style=\"text-align: right;\">\n",
       "      <th></th>\n",
       "      <th>k</th>\n",
       "      <th>train_accuracy</th>\n",
       "      <th>validate_accuracy</th>\n",
       "      <th>difference</th>\n",
       "    </tr>\n",
       "  </thead>\n",
       "  <tbody>\n",
       "    <tr>\n",
       "      <th>0</th>\n",
       "      <td>1</td>\n",
       "      <td>0.996196</td>\n",
       "      <td>0.722058</td>\n",
       "      <td>0.274138</td>\n",
       "    </tr>\n",
       "    <tr>\n",
       "      <th>1</th>\n",
       "      <td>2</td>\n",
       "      <td>0.875476</td>\n",
       "      <td>0.756949</td>\n",
       "      <td>0.118527</td>\n",
       "    </tr>\n",
       "    <tr>\n",
       "      <th>2</th>\n",
       "      <td>3</td>\n",
       "      <td>0.874207</td>\n",
       "      <td>0.751626</td>\n",
       "      <td>0.122581</td>\n",
       "    </tr>\n",
       "    <tr>\n",
       "      <th>3</th>\n",
       "      <td>4</td>\n",
       "      <td>0.839970</td>\n",
       "      <td>0.777646</td>\n",
       "      <td>0.062323</td>\n",
       "    </tr>\n",
       "    <tr>\n",
       "      <th>4</th>\n",
       "      <td>5</td>\n",
       "      <td>0.839970</td>\n",
       "      <td>0.769367</td>\n",
       "      <td>0.070602</td>\n",
       "    </tr>\n",
       "    <tr>\n",
       "      <th>5</th>\n",
       "      <td>6</td>\n",
       "      <td>0.828557</td>\n",
       "      <td>0.777055</td>\n",
       "      <td>0.051502</td>\n",
       "    </tr>\n",
       "    <tr>\n",
       "      <th>6</th>\n",
       "      <td>7</td>\n",
       "      <td>0.823738</td>\n",
       "      <td>0.777646</td>\n",
       "      <td>0.046092</td>\n",
       "    </tr>\n",
       "    <tr>\n",
       "      <th>7</th>\n",
       "      <td>8</td>\n",
       "      <td>0.822977</td>\n",
       "      <td>0.782377</td>\n",
       "      <td>0.040600</td>\n",
       "    </tr>\n",
       "    <tr>\n",
       "      <th>8</th>\n",
       "      <td>9</td>\n",
       "      <td>0.821963</td>\n",
       "      <td>0.785925</td>\n",
       "      <td>0.036037</td>\n",
       "    </tr>\n",
       "    <tr>\n",
       "      <th>9</th>\n",
       "      <td>10</td>\n",
       "      <td>0.819934</td>\n",
       "      <td>0.790656</td>\n",
       "      <td>0.029278</td>\n",
       "    </tr>\n",
       "    <tr>\n",
       "      <th>10</th>\n",
       "      <td>11</td>\n",
       "      <td>0.816891</td>\n",
       "      <td>0.787108</td>\n",
       "      <td>0.029782</td>\n",
       "    </tr>\n",
       "    <tr>\n",
       "      <th>11</th>\n",
       "      <td>12</td>\n",
       "      <td>0.815876</td>\n",
       "      <td>0.793022</td>\n",
       "      <td>0.022854</td>\n",
       "    </tr>\n",
       "    <tr>\n",
       "      <th>12</th>\n",
       "      <td>13</td>\n",
       "      <td>0.816383</td>\n",
       "      <td>0.793613</td>\n",
       "      <td>0.022770</td>\n",
       "    </tr>\n",
       "    <tr>\n",
       "      <th>13</th>\n",
       "      <td>14</td>\n",
       "      <td>0.812579</td>\n",
       "      <td>0.800118</td>\n",
       "      <td>0.012461</td>\n",
       "    </tr>\n",
       "    <tr>\n",
       "      <th>14</th>\n",
       "      <td>15</td>\n",
       "      <td>0.812833</td>\n",
       "      <td>0.794796</td>\n",
       "      <td>0.018037</td>\n",
       "    </tr>\n",
       "    <tr>\n",
       "      <th>15</th>\n",
       "      <td>16</td>\n",
       "      <td>0.810550</td>\n",
       "      <td>0.797161</td>\n",
       "      <td>0.013389</td>\n",
       "    </tr>\n",
       "    <tr>\n",
       "      <th>16</th>\n",
       "      <td>17</td>\n",
       "      <td>0.810043</td>\n",
       "      <td>0.791839</td>\n",
       "      <td>0.018204</td>\n",
       "    </tr>\n",
       "    <tr>\n",
       "      <th>17</th>\n",
       "      <td>18</td>\n",
       "      <td>0.805224</td>\n",
       "      <td>0.794205</td>\n",
       "      <td>0.011020</td>\n",
       "    </tr>\n",
       "    <tr>\n",
       "      <th>18</th>\n",
       "      <td>19</td>\n",
       "      <td>0.808014</td>\n",
       "      <td>0.788882</td>\n",
       "      <td>0.019132</td>\n",
       "    </tr>\n",
       "    <tr>\n",
       "      <th>19</th>\n",
       "      <td>20</td>\n",
       "      <td>0.803956</td>\n",
       "      <td>0.793022</td>\n",
       "      <td>0.010934</td>\n",
       "    </tr>\n",
       "    <tr>\n",
       "      <th>20</th>\n",
       "      <td>21</td>\n",
       "      <td>0.803703</td>\n",
       "      <td>0.794796</td>\n",
       "      <td>0.008907</td>\n",
       "    </tr>\n",
       "    <tr>\n",
       "      <th>21</th>\n",
       "      <td>22</td>\n",
       "      <td>0.803449</td>\n",
       "      <td>0.796570</td>\n",
       "      <td>0.006879</td>\n",
       "    </tr>\n",
       "    <tr>\n",
       "      <th>22</th>\n",
       "      <td>23</td>\n",
       "      <td>0.800659</td>\n",
       "      <td>0.794205</td>\n",
       "      <td>0.006455</td>\n",
       "    </tr>\n",
       "    <tr>\n",
       "      <th>23</th>\n",
       "      <td>24</td>\n",
       "      <td>0.800152</td>\n",
       "      <td>0.794796</td>\n",
       "      <td>0.005356</td>\n",
       "    </tr>\n",
       "    <tr>\n",
       "      <th>24</th>\n",
       "      <td>25</td>\n",
       "      <td>0.799899</td>\n",
       "      <td>0.795979</td>\n",
       "      <td>0.003920</td>\n",
       "    </tr>\n",
       "  </tbody>\n",
       "</table>\n",
       "</div>"
      ],
      "text/plain": [
       "     k  train_accuracy  validate_accuracy  difference\n",
       "0    1        0.996196           0.722058    0.274138\n",
       "1    2        0.875476           0.756949    0.118527\n",
       "2    3        0.874207           0.751626    0.122581\n",
       "3    4        0.839970           0.777646    0.062323\n",
       "4    5        0.839970           0.769367    0.070602\n",
       "5    6        0.828557           0.777055    0.051502\n",
       "6    7        0.823738           0.777646    0.046092\n",
       "7    8        0.822977           0.782377    0.040600\n",
       "8    9        0.821963           0.785925    0.036037\n",
       "9   10        0.819934           0.790656    0.029278\n",
       "10  11        0.816891           0.787108    0.029782\n",
       "11  12        0.815876           0.793022    0.022854\n",
       "12  13        0.816383           0.793613    0.022770\n",
       "13  14        0.812579           0.800118    0.012461\n",
       "14  15        0.812833           0.794796    0.018037\n",
       "15  16        0.810550           0.797161    0.013389\n",
       "16  17        0.810043           0.791839    0.018204\n",
       "17  18        0.805224           0.794205    0.011020\n",
       "18  19        0.808014           0.788882    0.019132\n",
       "19  20        0.803956           0.793022    0.010934\n",
       "20  21        0.803703           0.794796    0.008907\n",
       "21  22        0.803449           0.796570    0.006879\n",
       "22  23        0.800659           0.794205    0.006455\n",
       "23  24        0.800152           0.794796    0.005356\n",
       "24  25        0.799899           0.795979    0.003920"
      ]
     },
     "execution_count": 19,
     "metadata": {},
     "output_type": "execute_result"
    },
    {
     "data": {
      "image/png": "[encoded data removed]",
      "text/plain": [
       "<Figure size 1152x648 with 1 Axes>"
      ]
     },
     "metadata": {
      "needs_background": "light"
     },
     "output_type": "display_data"
    }
   ],
   "source": [
    "model.knn(X_train_feature, y_train_feature, X_validate_feature, y_validate_feature, max_k = 26)"
   ]
  },
  {
   "cell_type": "markdown",
   "id": "a2ffce57",
   "metadata": {},
   "source": [
    "### Logistic Regression (Select Features)"
   ]
  },
  {
   "cell_type": "code",
   "execution_count": 20,
   "id": "d0732ee6",
   "metadata": {},
   "outputs": [
    {
     "name": "stdout",
     "output_type": "stream",
     "text": [
      "Coefficient: \n",
      " [[ 0.2738826  -0.00359736 -0.10220994 -0.03307674  0.28371257 -0.40507565\n",
      "  -0.06353403  0.06309648 -0.38872072  0.39187458  0.27380614  0.30742525\n",
      "  -0.00496866  0.48513411 -0.19865242 -0.78660944 -0.03372833  0.73905797\n",
      "  -1.20545739 -0.22864028 -0.2261966   0.12906333 -0.1743542 ]]\n",
      "Intercept: \n",
      " [-0.53790585]\n",
      "Train Confusion Matrix:\n",
      "[[2605  292]\n",
      " [ 470  576]]\n",
      "\n",
      "Train Data:\n"
     ]
    },
    {
     "data": {
      "text/html": [
       "<div>\n",
       "<style scoped>\n",
       "    .dataframe tbody tr th:only-of-type {\n",
       "        vertical-align: middle;\n",
       "    }\n",
       "\n",
       "    .dataframe tbody tr th {\n",
       "        vertical-align: top;\n",
       "    }\n",
       "\n",
       "    .dataframe thead th {\n",
       "        text-align: right;\n",
       "    }\n",
       "</style>\n",
       "<table border=\"1\" class=\"dataframe\">\n",
       "  <thead>\n",
       "    <tr style=\"text-align: right;\">\n",
       "      <th></th>\n",
       "      <th>0</th>\n",
       "      <th>1</th>\n",
       "      <th>accuracy</th>\n",
       "      <th>macro avg</th>\n",
       "      <th>weighted avg</th>\n",
       "    </tr>\n",
       "  </thead>\n",
       "  <tbody>\n",
       "    <tr>\n",
       "      <th>precision</th>\n",
       "      <td>0.847154</td>\n",
       "      <td>0.663594</td>\n",
       "      <td>0.806746</td>\n",
       "      <td>0.755374</td>\n",
       "      <td>0.798460</td>\n",
       "    </tr>\n",
       "    <tr>\n",
       "      <th>recall</th>\n",
       "      <td>0.899206</td>\n",
       "      <td>0.550669</td>\n",
       "      <td>0.806746</td>\n",
       "      <td>0.724938</td>\n",
       "      <td>0.806746</td>\n",
       "    </tr>\n",
       "    <tr>\n",
       "      <th>f1-score</th>\n",
       "      <td>0.872405</td>\n",
       "      <td>0.601881</td>\n",
       "      <td>0.806746</td>\n",
       "      <td>0.737143</td>\n",
       "      <td>0.800640</td>\n",
       "    </tr>\n",
       "    <tr>\n",
       "      <th>support</th>\n",
       "      <td>2897.000000</td>\n",
       "      <td>1046.000000</td>\n",
       "      <td>0.806746</td>\n",
       "      <td>3943.000000</td>\n",
       "      <td>3943.000000</td>\n",
       "    </tr>\n",
       "  </tbody>\n",
       "</table>\n",
       "</div>"
      ],
      "text/plain": [
       "                     0            1  accuracy    macro avg  weighted avg\n",
       "precision     0.847154     0.663594  0.806746     0.755374      0.798460\n",
       "recall        0.899206     0.550669  0.806746     0.724938      0.806746\n",
       "f1-score      0.872405     0.601881  0.806746     0.737143      0.800640\n",
       "support    2897.000000  1046.000000  0.806746  3943.000000   3943.000000"
      ]
     },
     "execution_count": 20,
     "metadata": {},
     "output_type": "execute_result"
    }
   ],
   "source": [
    "model.log_regression(X_train_feature, y_train_feature)"
   ]
  },
  {
   "cell_type": "code",
   "execution_count": 21,
   "id": "5a5f6074",
   "metadata": {},
   "outputs": [
    {
     "name": "stdout",
     "output_type": "stream",
     "text": [
      "Coefficient: \n",
      " [[ 0.2738826  -0.00359736 -0.10220994 -0.03307674  0.28371257 -0.40507565\n",
      "  -0.06353403  0.06309648 -0.38872072  0.39187458  0.27380614  0.30742525\n",
      "  -0.00496866  0.48513411 -0.19865242 -0.78660944 -0.03372833  0.73905797\n",
      "  -1.20545739 -0.22864028 -0.2261966   0.12906333 -0.1743542 ]]\n",
      "Intercept: \n",
      " [-0.53790585]\n",
      "Validate Confusion Matrix:\n",
      "[[1113  129]\n",
      " [ 208  241]]\n",
      "\n",
      "Validate Data:\n"
     ]
    },
    {
     "data": {
      "text/html": [
       "<div>\n",
       "<style scoped>\n",
       "    .dataframe tbody tr th:only-of-type {\n",
       "        vertical-align: middle;\n",
       "    }\n",
       "\n",
       "    .dataframe tbody tr th {\n",
       "        vertical-align: top;\n",
       "    }\n",
       "\n",
       "    .dataframe thead th {\n",
       "        text-align: right;\n",
       "    }\n",
       "</style>\n",
       "<table border=\"1\" class=\"dataframe\">\n",
       "  <thead>\n",
       "    <tr style=\"text-align: right;\">\n",
       "      <th></th>\n",
       "      <th>0</th>\n",
       "      <th>1</th>\n",
       "      <th>accuracy</th>\n",
       "      <th>macro avg</th>\n",
       "      <th>weighted avg</th>\n",
       "    </tr>\n",
       "  </thead>\n",
       "  <tbody>\n",
       "    <tr>\n",
       "      <th>precision</th>\n",
       "      <td>0.842544</td>\n",
       "      <td>0.651351</td>\n",
       "      <td>0.80071</td>\n",
       "      <td>0.746947</td>\n",
       "      <td>0.791778</td>\n",
       "    </tr>\n",
       "    <tr>\n",
       "      <th>recall</th>\n",
       "      <td>0.896135</td>\n",
       "      <td>0.536748</td>\n",
       "      <td>0.80071</td>\n",
       "      <td>0.716442</td>\n",
       "      <td>0.800710</td>\n",
       "    </tr>\n",
       "    <tr>\n",
       "      <th>f1-score</th>\n",
       "      <td>0.868513</td>\n",
       "      <td>0.588523</td>\n",
       "      <td>0.80071</td>\n",
       "      <td>0.728518</td>\n",
       "      <td>0.794169</td>\n",
       "    </tr>\n",
       "    <tr>\n",
       "      <th>support</th>\n",
       "      <td>1242.000000</td>\n",
       "      <td>449.000000</td>\n",
       "      <td>0.80071</td>\n",
       "      <td>1691.000000</td>\n",
       "      <td>1691.000000</td>\n",
       "    </tr>\n",
       "  </tbody>\n",
       "</table>\n",
       "</div>"
      ],
      "text/plain": [
       "                     0           1  accuracy    macro avg  weighted avg\n",
       "precision     0.842544    0.651351   0.80071     0.746947      0.791778\n",
       "recall        0.896135    0.536748   0.80071     0.716442      0.800710\n",
       "f1-score      0.868513    0.588523   0.80071     0.728518      0.794169\n",
       "support    1242.000000  449.000000   0.80071  1691.000000   1691.000000"
      ]
     },
     "execution_count": 21,
     "metadata": {},
     "output_type": "execute_result"
    }
   ],
   "source": [
    "model.log_regression_val(X_train_feature, y_train_feature, X_validate_feature, y_validate_feature)"
   ]
  },
  {
   "cell_type": "markdown",
   "id": "aa545dec",
   "metadata": {},
   "source": [
    "## Model & Evaluate (Select Features and Scaling):"
   ]
  },
  {
   "cell_type": "code",
   "execution_count": 22,
   "id": "343ba6aa",
   "metadata": {},
   "outputs": [],
   "source": [
    "# Scaling:\n",
    "scaler = sklearn.preprocessing.MinMaxScaler() # Min Max Linear Scaler\n",
    "scaler.fit(X_train_feature) # Fit on Train\n",
    "X_train_scaled_feature = scaler.transform(X_train_feature) # transform on train\n",
    "X_validate_scaled_feature = scaler.transform(X_validate_feature) # transform on validate\n",
    "X_test_scaled_feature = scaler.transform(X_test_feature)"
   ]
  },
  {
   "cell_type": "markdown",
   "id": "fb8ffd03",
   "metadata": {},
   "source": [
    "### KNN (Select Scaled Features)"
   ]
  },
  {
   "cell_type": "code",
   "execution_count": 23,
   "id": "ac8d7db4",
   "metadata": {},
   "outputs": [
    {
     "data": {
      "text/html": [
       "<div>\n",
       "<style scoped>\n",
       "    .dataframe tbody tr th:only-of-type {\n",
       "        vertical-align: middle;\n",
       "    }\n",
       "\n",
       "    .dataframe tbody tr th {\n",
       "        vertical-align: top;\n",
       "    }\n",
       "\n",
       "    .dataframe thead th {\n",
       "        text-align: right;\n",
       "    }\n",
       "</style>\n",
       "<table border=\"1\" class=\"dataframe\">\n",
       "  <thead>\n",
       "    <tr style=\"text-align: right;\">\n",
       "      <th></th>\n",
       "      <th>k</th>\n",
       "      <th>train_accuracy</th>\n",
       "      <th>validate_accuracy</th>\n",
       "      <th>difference</th>\n",
       "    </tr>\n",
       "  </thead>\n",
       "  <tbody>\n",
       "    <tr>\n",
       "      <th>0</th>\n",
       "      <td>1</td>\n",
       "      <td>0.996196</td>\n",
       "      <td>0.734477</td>\n",
       "      <td>0.261719</td>\n",
       "    </tr>\n",
       "    <tr>\n",
       "      <th>1</th>\n",
       "      <td>2</td>\n",
       "      <td>0.865077</td>\n",
       "      <td>0.767593</td>\n",
       "      <td>0.097484</td>\n",
       "    </tr>\n",
       "    <tr>\n",
       "      <th>2</th>\n",
       "      <td>3</td>\n",
       "      <td>0.857723</td>\n",
       "      <td>0.749852</td>\n",
       "      <td>0.107870</td>\n",
       "    </tr>\n",
       "    <tr>\n",
       "      <th>3</th>\n",
       "      <td>4</td>\n",
       "      <td>0.832361</td>\n",
       "      <td>0.763454</td>\n",
       "      <td>0.068908</td>\n",
       "    </tr>\n",
       "    <tr>\n",
       "      <th>4</th>\n",
       "      <td>5</td>\n",
       "      <td>0.833376</td>\n",
       "      <td>0.768185</td>\n",
       "      <td>0.065191</td>\n",
       "    </tr>\n",
       "    <tr>\n",
       "      <th>5</th>\n",
       "      <td>6</td>\n",
       "      <td>0.827289</td>\n",
       "      <td>0.774098</td>\n",
       "      <td>0.053191</td>\n",
       "    </tr>\n",
       "    <tr>\n",
       "      <th>6</th>\n",
       "      <td>7</td>\n",
       "      <td>0.829571</td>\n",
       "      <td>0.771733</td>\n",
       "      <td>0.057839</td>\n",
       "    </tr>\n",
       "    <tr>\n",
       "      <th>7</th>\n",
       "      <td>8</td>\n",
       "      <td>0.821963</td>\n",
       "      <td>0.777646</td>\n",
       "      <td>0.044317</td>\n",
       "    </tr>\n",
       "    <tr>\n",
       "      <th>8</th>\n",
       "      <td>9</td>\n",
       "      <td>0.813086</td>\n",
       "      <td>0.774098</td>\n",
       "      <td>0.038988</td>\n",
       "    </tr>\n",
       "    <tr>\n",
       "      <th>9</th>\n",
       "      <td>10</td>\n",
       "      <td>0.816383</td>\n",
       "      <td>0.780603</td>\n",
       "      <td>0.035780</td>\n",
       "    </tr>\n",
       "    <tr>\n",
       "      <th>10</th>\n",
       "      <td>11</td>\n",
       "      <td>0.812579</td>\n",
       "      <td>0.772915</td>\n",
       "      <td>0.039664</td>\n",
       "    </tr>\n",
       "    <tr>\n",
       "      <th>11</th>\n",
       "      <td>12</td>\n",
       "      <td>0.812326</td>\n",
       "      <td>0.780603</td>\n",
       "      <td>0.031722</td>\n",
       "    </tr>\n",
       "    <tr>\n",
       "      <th>12</th>\n",
       "      <td>13</td>\n",
       "      <td>0.808775</td>\n",
       "      <td>0.781195</td>\n",
       "      <td>0.027580</td>\n",
       "    </tr>\n",
       "    <tr>\n",
       "      <th>13</th>\n",
       "      <td>14</td>\n",
       "      <td>0.811818</td>\n",
       "      <td>0.781786</td>\n",
       "      <td>0.030032</td>\n",
       "    </tr>\n",
       "    <tr>\n",
       "      <th>14</th>\n",
       "      <td>15</td>\n",
       "      <td>0.806239</td>\n",
       "      <td>0.778238</td>\n",
       "      <td>0.028001</td>\n",
       "    </tr>\n",
       "    <tr>\n",
       "      <th>15</th>\n",
       "      <td>16</td>\n",
       "      <td>0.806746</td>\n",
       "      <td>0.780603</td>\n",
       "      <td>0.026143</td>\n",
       "    </tr>\n",
       "    <tr>\n",
       "      <th>16</th>\n",
       "      <td>17</td>\n",
       "      <td>0.801420</td>\n",
       "      <td>0.779420</td>\n",
       "      <td>0.022000</td>\n",
       "    </tr>\n",
       "    <tr>\n",
       "      <th>17</th>\n",
       "      <td>18</td>\n",
       "      <td>0.806239</td>\n",
       "      <td>0.777055</td>\n",
       "      <td>0.029184</td>\n",
       "    </tr>\n",
       "    <tr>\n",
       "      <th>18</th>\n",
       "      <td>19</td>\n",
       "      <td>0.802181</td>\n",
       "      <td>0.777055</td>\n",
       "      <td>0.025126</td>\n",
       "    </tr>\n",
       "    <tr>\n",
       "      <th>19</th>\n",
       "      <td>20</td>\n",
       "      <td>0.806493</td>\n",
       "      <td>0.784151</td>\n",
       "      <td>0.022341</td>\n",
       "    </tr>\n",
       "    <tr>\n",
       "      <th>20</th>\n",
       "      <td>21</td>\n",
       "      <td>0.800913</td>\n",
       "      <td>0.777646</td>\n",
       "      <td>0.023267</td>\n",
       "    </tr>\n",
       "    <tr>\n",
       "      <th>21</th>\n",
       "      <td>22</td>\n",
       "      <td>0.803703</td>\n",
       "      <td>0.782377</td>\n",
       "      <td>0.021325</td>\n",
       "    </tr>\n",
       "    <tr>\n",
       "      <th>22</th>\n",
       "      <td>23</td>\n",
       "      <td>0.798123</td>\n",
       "      <td>0.777646</td>\n",
       "      <td>0.020477</td>\n",
       "    </tr>\n",
       "    <tr>\n",
       "      <th>23</th>\n",
       "      <td>24</td>\n",
       "      <td>0.801674</td>\n",
       "      <td>0.778238</td>\n",
       "      <td>0.023436</td>\n",
       "    </tr>\n",
       "    <tr>\n",
       "      <th>24</th>\n",
       "      <td>25</td>\n",
       "      <td>0.799645</td>\n",
       "      <td>0.777055</td>\n",
       "      <td>0.022590</td>\n",
       "    </tr>\n",
       "  </tbody>\n",
       "</table>\n",
       "</div>"
      ],
      "text/plain": [
       "     k  train_accuracy  validate_accuracy  difference\n",
       "0    1        0.996196           0.734477    0.261719\n",
       "1    2        0.865077           0.767593    0.097484\n",
       "2    3        0.857723           0.749852    0.107870\n",
       "3    4        0.832361           0.763454    0.068908\n",
       "4    5        0.833376           0.768185    0.065191\n",
       "5    6        0.827289           0.774098    0.053191\n",
       "6    7        0.829571           0.771733    0.057839\n",
       "7    8        0.821963           0.777646    0.044317\n",
       "8    9        0.813086           0.774098    0.038988\n",
       "9   10        0.816383           0.780603    0.035780\n",
       "10  11        0.812579           0.772915    0.039664\n",
       "11  12        0.812326           0.780603    0.031722\n",
       "12  13        0.808775           0.781195    0.027580\n",
       "13  14        0.811818           0.781786    0.030032\n",
       "14  15        0.806239           0.778238    0.028001\n",
       "15  16        0.806746           0.780603    0.026143\n",
       "16  17        0.801420           0.779420    0.022000\n",
       "17  18        0.806239           0.777055    0.029184\n",
       "18  19        0.802181           0.777055    0.025126\n",
       "19  20        0.806493           0.784151    0.022341\n",
       "20  21        0.800913           0.777646    0.023267\n",
       "21  22        0.803703           0.782377    0.021325\n",
       "22  23        0.798123           0.777646    0.020477\n",
       "23  24        0.801674           0.778238    0.023436\n",
       "24  25        0.799645           0.777055    0.022590"
      ]
     },
     "execution_count": 23,
     "metadata": {},
     "output_type": "execute_result"
    },
    {
     "data": {
      "image/png": "[encoded data removed]",
      "text/plain": [
       "<Figure size 1152x648 with 1 Axes>"
      ]
     },
     "metadata": {
      "needs_background": "light"
     },
     "output_type": "display_data"
    }
   ],
   "source": [
    "model.knn(X_train_scaled_feature, y_train_feature, X_validate_scaled_feature, y_validate_feature, max_k = 26)"
   ]
  },
  {
   "cell_type": "markdown",
   "id": "09f31c04",
   "metadata": {},
   "source": [
    "### Logistic Regression (Select Scaled Features)"
   ]
  },
  {
   "cell_type": "code",
   "execution_count": 24,
   "id": "6ca00c5b",
   "metadata": {},
   "outputs": [
    {
     "name": "stdout",
     "output_type": "stream",
     "text": [
      "Coefficient: \n",
      " [[ 0.27700624  0.00790026 -0.1206758  -2.3645296   0.35492241 -0.37442578\n",
      "  -0.02840142  0.08917775 -0.36883504  0.46912023  0.33791118  0.28712272\n",
      "  -1.35426248  0.62735738 -0.07204589 -0.55451751  0.07238209  1.16122924\n",
      "  -1.23281735 -0.08493924 -0.08977149  0.22597542 -0.0504707 ]]\n",
      "Intercept: \n",
      " [-0.83079694]\n",
      "Train Confusion Matrix:\n",
      "[[2604  293]\n",
      " [ 470  576]]\n",
      "\n",
      "Train Data:\n"
     ]
    },
    {
     "data": {
      "text/html": [
       "<div>\n",
       "<style scoped>\n",
       "    .dataframe tbody tr th:only-of-type {\n",
       "        vertical-align: middle;\n",
       "    }\n",
       "\n",
       "    .dataframe tbody tr th {\n",
       "        vertical-align: top;\n",
       "    }\n",
       "\n",
       "    .dataframe thead th {\n",
       "        text-align: right;\n",
       "    }\n",
       "</style>\n",
       "<table border=\"1\" class=\"dataframe\">\n",
       "  <thead>\n",
       "    <tr style=\"text-align: right;\">\n",
       "      <th></th>\n",
       "      <th>0</th>\n",
       "      <th>1</th>\n",
       "      <th>accuracy</th>\n",
       "      <th>macro avg</th>\n",
       "      <th>weighted avg</th>\n",
       "    </tr>\n",
       "  </thead>\n",
       "  <tbody>\n",
       "    <tr>\n",
       "      <th>precision</th>\n",
       "      <td>0.847105</td>\n",
       "      <td>0.662831</td>\n",
       "      <td>0.806493</td>\n",
       "      <td>0.754968</td>\n",
       "      <td>0.798221</td>\n",
       "    </tr>\n",
       "    <tr>\n",
       "      <th>recall</th>\n",
       "      <td>0.898861</td>\n",
       "      <td>0.550669</td>\n",
       "      <td>0.806493</td>\n",
       "      <td>0.724765</td>\n",
       "      <td>0.806493</td>\n",
       "    </tr>\n",
       "    <tr>\n",
       "      <th>f1-score</th>\n",
       "      <td>0.872216</td>\n",
       "      <td>0.601567</td>\n",
       "      <td>0.806493</td>\n",
       "      <td>0.736891</td>\n",
       "      <td>0.800418</td>\n",
       "    </tr>\n",
       "    <tr>\n",
       "      <th>support</th>\n",
       "      <td>2897.000000</td>\n",
       "      <td>1046.000000</td>\n",
       "      <td>0.806493</td>\n",
       "      <td>3943.000000</td>\n",
       "      <td>3943.000000</td>\n",
       "    </tr>\n",
       "  </tbody>\n",
       "</table>\n",
       "</div>"
      ],
      "text/plain": [
       "                     0            1  accuracy    macro avg  weighted avg\n",
       "precision     0.847105     0.662831  0.806493     0.754968      0.798221\n",
       "recall        0.898861     0.550669  0.806493     0.724765      0.806493\n",
       "f1-score      0.872216     0.601567  0.806493     0.736891      0.800418\n",
       "support    2897.000000  1046.000000  0.806493  3943.000000   3943.000000"
      ]
     },
     "execution_count": 24,
     "metadata": {},
     "output_type": "execute_result"
    }
   ],
   "source": [
    "model.log_regression(X_train_scaled_feature, y_train_feature)"
   ]
  },
  {
   "cell_type": "code",
   "execution_count": 25,
   "id": "cf172ef7",
   "metadata": {},
   "outputs": [
    {
     "name": "stdout",
     "output_type": "stream",
     "text": [
      "Coefficient: \n",
      " [[ 0.27700624  0.00790026 -0.1206758  -2.3645296   0.35492241 -0.37442578\n",
      "  -0.02840142  0.08917775 -0.36883504  0.46912023  0.33791118  0.28712272\n",
      "  -1.35426248  0.62735738 -0.07204589 -0.55451751  0.07238209  1.16122924\n",
      "  -1.23281735 -0.08493924 -0.08977149  0.22597542 -0.0504707 ]]\n",
      "Intercept: \n",
      " [-0.83079694]\n",
      "Validate Confusion Matrix:\n",
      "[[1114  128]\n",
      " [ 214  235]]\n",
      "\n",
      "Validate Data:\n"
     ]
    },
    {
     "data": {
      "text/html": [
       "<div>\n",
       "<style scoped>\n",
       "    .dataframe tbody tr th:only-of-type {\n",
       "        vertical-align: middle;\n",
       "    }\n",
       "\n",
       "    .dataframe tbody tr th {\n",
       "        vertical-align: top;\n",
       "    }\n",
       "\n",
       "    .dataframe thead th {\n",
       "        text-align: right;\n",
       "    }\n",
       "</style>\n",
       "<table border=\"1\" class=\"dataframe\">\n",
       "  <thead>\n",
       "    <tr style=\"text-align: right;\">\n",
       "      <th></th>\n",
       "      <th>0</th>\n",
       "      <th>1</th>\n",
       "      <th>accuracy</th>\n",
       "      <th>macro avg</th>\n",
       "      <th>weighted avg</th>\n",
       "    </tr>\n",
       "  </thead>\n",
       "  <tbody>\n",
       "    <tr>\n",
       "      <th>precision</th>\n",
       "      <td>0.838855</td>\n",
       "      <td>0.647383</td>\n",
       "      <td>0.797753</td>\n",
       "      <td>0.743119</td>\n",
       "      <td>0.788015</td>\n",
       "    </tr>\n",
       "    <tr>\n",
       "      <th>recall</th>\n",
       "      <td>0.896940</td>\n",
       "      <td>0.523385</td>\n",
       "      <td>0.797753</td>\n",
       "      <td>0.710163</td>\n",
       "      <td>0.797753</td>\n",
       "    </tr>\n",
       "    <tr>\n",
       "      <th>f1-score</th>\n",
       "      <td>0.866926</td>\n",
       "      <td>0.578818</td>\n",
       "      <td>0.797753</td>\n",
       "      <td>0.722872</td>\n",
       "      <td>0.790427</td>\n",
       "    </tr>\n",
       "    <tr>\n",
       "      <th>support</th>\n",
       "      <td>1242.000000</td>\n",
       "      <td>449.000000</td>\n",
       "      <td>0.797753</td>\n",
       "      <td>1691.000000</td>\n",
       "      <td>1691.000000</td>\n",
       "    </tr>\n",
       "  </tbody>\n",
       "</table>\n",
       "</div>"
      ],
      "text/plain": [
       "                     0           1  accuracy    macro avg  weighted avg\n",
       "precision     0.838855    0.647383  0.797753     0.743119      0.788015\n",
       "recall        0.896940    0.523385  0.797753     0.710163      0.797753\n",
       "f1-score      0.866926    0.578818  0.797753     0.722872      0.790427\n",
       "support    1242.000000  449.000000  0.797753  1691.000000   1691.000000"
      ]
     },
     "execution_count": 25,
     "metadata": {},
     "output_type": "execute_result"
    }
   ],
   "source": [
    "model.log_regression_val(X_train_scaled_feature, y_train_feature, X_validate_scaled_feature, y_validate_feature)"
   ]
  },
  {
   "cell_type": "code",
   "execution_count": null,
   "id": "692876f4",
   "metadata": {},
   "outputs": [],
   "source": []
  }
 ],
 "metadata": {
  "kernelspec": {
   "display_name": "Python 3",
   "language": "python",
   "name": "python3"
  },
  "language_info": {
   "codemirror_mode": {
    "name": "ipython",
    "version": 3
   },
   "file_extension": ".py",
   "mimetype": "text/x-python",
   "name": "python",
   "nbconvert_exporter": "python",
   "pygments_lexer": "ipython3",
   "version": "3.8.8"
  }
 },
 "nbformat": 4,
 "nbformat_minor": 5
}
