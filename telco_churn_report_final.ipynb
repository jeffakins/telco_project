{
 "cells": [
  {
   "cell_type": "markdown",
   "id": "eb42d649",
   "metadata": {},
   "source": [
    "![TELCO Logo](https://upload.wikimedia.org/wikipedia/commons/6/6d/Telco_System_Logo.jpg)"
   ]
  },
  {
   "cell_type": "markdown",
   "id": "3df3cfaf",
   "metadata": {},
   "source": [
    "# TELCO Classification Project \n",
    "### - by Jeff Akins"
   ]
  },
  {
   "cell_type": "markdown",
   "id": "b6a08d06",
   "metadata": {},
   "source": [
    "## Executive Summary\n",
    "#### Why are our customers churning?\n",
    "- "
   ]
  },
  {
   "cell_type": "code",
   "execution_count": null,
   "id": "49a8be3d",
   "metadata": {},
   "outputs": [],
   "source": []
  }
 ],
 "metadata": {
  "kernelspec": {
   "display_name": "Python 3",
   "language": "python",
   "name": "python3"
  },
  "language_info": {
   "codemirror_mode": {
    "name": "ipython",
    "version": 3
   },
   "file_extension": ".py",
   "mimetype": "text/x-python",
   "name": "python",
   "nbconvert_exporter": "python",
   "pygments_lexer": "ipython3",
   "version": "3.8.8"
  }
 },
 "nbformat": 4,
 "nbformat_minor": 5
}
